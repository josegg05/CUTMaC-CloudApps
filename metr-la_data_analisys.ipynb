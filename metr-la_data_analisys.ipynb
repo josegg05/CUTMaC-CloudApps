{
 "cells": [
  {
   "cell_type": "code",
   "execution_count": 1,
   "metadata": {
    "collapsed": true
   },
   "outputs": [],
   "source": [
    "import numpy as np\n",
    "import pandas as pd"
   ]
  },
  {
   "cell_type": "code",
   "execution_count": 2,
   "outputs": [],
   "source": [
    "data_train = np.load('datasets/METR-LA/train.npz')\n",
    "data_valid = np.load('datasets/METR-LA/val.npz')\n",
    "data_test = np.load('datasets/METR-LA/test.npz')"
   ],
   "metadata": {
    "collapsed": false,
    "pycharm": {
     "name": "#%%\n"
    }
   }
  },
  {
   "cell_type": "code",
   "execution_count": 3,
   "outputs": [
    {
     "name": "stdout",
     "output_type": "stream",
     "text": [
      "(23974, 12, 207, 2)\n",
      "(3425, 12, 207, 2)\n",
      "(6850, 12, 207, 2)\n"
     ]
    }
   ],
   "source": [
    "print(data_train['x'].shape)\n",
    "print(data_valid['x'].shape)\n",
    "print(data_test['x'].shape)"
   ],
   "metadata": {
    "collapsed": false,
    "pycharm": {
     "name": "#%%\n"
    }
   }
  },
  {
   "cell_type": "code",
   "execution_count": 4,
   "outputs": [
    {
     "name": "stdout",
     "output_type": "stream",
     "text": [
      "   index  sensor_id  latitude  longitude\n",
      "0      0     773869  34.15497 -118.31829\n",
      "1      1     767541  34.11621 -118.23799\n",
      "2      2     767542  34.11641 -118.23819\n",
      "3      3     717447  34.07248 -118.26772\n",
      "4      4     717446  34.07142 -118.26572\n",
      "[717508, 772597, 772178, 717504, 772167, 772140, 764781, 760024, 769430, 717499, 769444, 769359, 717495, 769345, 717493, 717570, 773880, 760987, 717573, 773869, 761003, 773904, 718204, 773953, 773916, 773927, 717578, 717580, 717583, 717585, 717587, 717592, 773974, 773995, 774011, 717595]\n",
      "[774012, 773996, 773975, 717590, 717099, 717582, 716554, 774067, 773954, 717576, 773906, 718499, 717572, 774204, 718496, 717571, 773939, 717492, 769467, 769346, 717497, 769358, 717498, 769443, 769431, 764794, 765099, 717502, 772168, 772151, 772596, 717510, 717513]\n",
      "[150  87 172 148 197  41 130  43  82  76  60  47  52 164  73 118  67  36\n",
      " 115   0 145 142  37  54 111  42  24 169 168 173 171 202 179 153  45 203]\n",
      "[ 44 152 178 201 110 167  53  62  58 114  13 143 116 199 140 117  61  72\n",
      " 113 141  69 137  75  63  81 158 131 146 204 100  86 180 181]\n"
     ]
    }
   ],
   "source": [
    "sensor_locations = pd.read_csv('datasets/METR-LA/graph_sensor_locations.csv')\n",
    "print(sensor_locations.head())\n",
    "\n",
    "sensors_filtered_ids_we = list(map(int, list(pd.read_csv('datasets/METR-LA/graph_sensor_ids_we.csv').columns)))\n",
    "sensors_filtered_ids_ew = list(map(int, list(pd.read_csv('datasets/METR-LA/graph_sensor_ids_ew.csv').columns)))\n",
    "print(sensors_filtered_ids_we)\n",
    "print(sensors_filtered_ids_ew)\n",
    "\n",
    "sensors_filtered_index_we = []\n",
    "for id_we in sensors_filtered_ids_we:\n",
    "    sensors_filtered_index_we.append(sensor_locations[sensor_locations['sensor_id'] == id_we]['index'].values[0])\n",
    "sensors_filtered_index_ew = []\n",
    "for id_ew in sensors_filtered_ids_ew:\n",
    "    sensors_filtered_index_ew.append(sensor_locations[sensor_locations['sensor_id'] == id_ew]['index'].values[0])\n",
    "\n",
    "#sensors_filtered_index_not_ordered = sensor_locations[sensor_locations['sensor_id'].isin(sensors_filtered_ids)]['index'].to_numpy()\n",
    "sensors_filtered_index_we = np.array(sensors_filtered_index_we)\n",
    "sensors_filtered_index_ew = np.array(sensors_filtered_index_ew)\n",
    "print(sensors_filtered_index_we)\n",
    "print(sensors_filtered_index_ew)\n",
    "#print(sensors_filtered_index_not_ordered)"
   ],
   "metadata": {
    "collapsed": false,
    "pycharm": {
     "name": "#%%\n"
    }
   }
  },
  {
   "cell_type": "code",
   "execution_count": 5,
   "outputs": [],
   "source": [
    "data_keys = ['x', 'y']\n",
    "data_train_filtered_we = {}\n",
    "data_valid_filtered_we = {}\n",
    "data_test_filtered_we = {}\n",
    "for key in data_keys:\n",
    "    data_train_filtered_we[key] = data_train[key][:,:,sensors_filtered_index_we,:]\n",
    "    data_valid_filtered_we[key] = data_valid[key][:,:,sensors_filtered_index_we,:]\n",
    "    data_test_filtered_we[key] = data_test[key][:,:,sensors_filtered_index_we,:]\n",
    "\n",
    "data_train_filtered_ew = {}\n",
    "data_valid_filtered_ew = {}\n",
    "data_test_filtered_ew = {}\n",
    "for key in data_keys:\n",
    "    data_train_filtered_ew[key] = data_train[key][:,:,sensors_filtered_index_ew,:]\n",
    "    data_valid_filtered_ew[key] = data_valid[key][:,:,sensors_filtered_index_ew,:]\n",
    "    data_test_filtered_ew[key] = data_test[key][:,:,sensors_filtered_index_ew,:]"
   ],
   "metadata": {
    "collapsed": false,
    "pycharm": {
     "name": "#%%\n"
    }
   }
  },
  {
   "cell_type": "code",
   "execution_count": 6,
   "outputs": [
    {
     "name": "stdout",
     "output_type": "stream",
     "text": [
      "(23974, 12, 36, 2)\n",
      "(23974, 12, 36, 2)\n",
      "(3425, 12, 36, 2)\n",
      "(3425, 12, 36, 2)\n",
      "(6850, 12, 36, 2)\n",
      "(6850, 12, 36, 2)\n",
      "(23974, 12, 33, 2)\n",
      "(23974, 12, 33, 2)\n",
      "(3425, 12, 33, 2)\n",
      "(3425, 12, 33, 2)\n",
      "(6850, 12, 33, 2)\n",
      "(6850, 12, 33, 2)\n"
     ]
    }
   ],
   "source": [
    "print(data_train_filtered_we['x'].shape)\n",
    "print(data_train_filtered_we['y'].shape)\n",
    "print(data_valid_filtered_we['x'].shape)\n",
    "print(data_valid_filtered_we['y'].shape)\n",
    "print(data_test_filtered_we['x'].shape)\n",
    "print(data_test_filtered_we['y'].shape)\n",
    "\n",
    "print(data_train_filtered_ew['x'].shape)\n",
    "print(data_train_filtered_ew['y'].shape)\n",
    "print(data_valid_filtered_ew['x'].shape)\n",
    "print(data_valid_filtered_ew['y'].shape)\n",
    "print(data_test_filtered_ew['x'].shape)\n",
    "print(data_test_filtered_ew['y'].shape)"
   ],
   "metadata": {
    "collapsed": false,
    "pycharm": {
     "name": "#%%\n"
    }
   }
  },
  {
   "cell_type": "code",
   "execution_count": 7,
   "outputs": [],
   "source": [
    "np.savez_compressed(\n",
    "            'datasets/METR-LA/train_filtered_we.npz',\n",
    "            x=data_train_filtered_we['x'],\n",
    "            y=data_train_filtered_we['y'],\n",
    "            x_offsets=data_train['x_offsets'],\n",
    "            y_offsets=data_train['y_offsets'],\n",
    "        )\n",
    "np.savez_compressed(\n",
    "            'datasets/METR-LA/val_filtered_we.npz',\n",
    "            x=data_valid_filtered_we['x'],\n",
    "            y=data_valid_filtered_we['y'],\n",
    "            x_offsets=data_valid['x_offsets'],\n",
    "            y_offsets=data_valid['y_offsets'],\n",
    "        )\n",
    "np.savez_compressed(\n",
    "            'datasets/METR-LA/test_filtered_we.npz',\n",
    "            x=data_test_filtered_we['x'],\n",
    "            y=data_test_filtered_we['y'],\n",
    "            x_offsets=data_test['x_offsets'],\n",
    "            y_offsets=data_test['y_offsets'],\n",
    "        )\n",
    "\n",
    "np.savez_compressed(\n",
    "            'datasets/METR-LA/train_filtered_ew.npz',\n",
    "            x=data_train_filtered_ew['x'],\n",
    "            y=data_train_filtered_ew['y'],\n",
    "            x_offsets=data_train['x_offsets'],\n",
    "            y_offsets=data_train['y_offsets'],\n",
    "        )\n",
    "np.savez_compressed(\n",
    "            'datasets/METR-LA/val_filtered_ew.npz',\n",
    "            x=data_valid_filtered_ew['x'],\n",
    "            y=data_valid_filtered_ew['y'],\n",
    "            x_offsets=data_valid['x_offsets'],\n",
    "            y_offsets=data_valid['y_offsets'],\n",
    "        )\n",
    "np.savez_compressed(\n",
    "            'datasets/METR-LA/test_filtered_ew.npz',\n",
    "            x=data_test_filtered_ew['x'],\n",
    "            y=data_test_filtered_ew['y'],\n",
    "            x_offsets=data_test['x_offsets'],\n",
    "            y_offsets=data_test['y_offsets'],\n",
    "        )"
   ],
   "metadata": {
    "collapsed": false,
    "pycharm": {
     "name": "#%%\n"
    }
   }
  },
  {
   "cell_type": "code",
   "execution_count": 8,
   "outputs": [],
   "source": [
    "data_train.close()\n",
    "data_valid.close()\n",
    "data_test.close()"
   ],
   "metadata": {
    "collapsed": false,
    "pycharm": {
     "name": "#%%\n"
    }
   }
  },
  {
   "cell_type": "code",
   "execution_count": null,
   "outputs": [],
   "source": [],
   "metadata": {
    "collapsed": false,
    "pycharm": {
     "name": "#%%\n"
    }
   }
  }
 ],
 "metadata": {
  "kernelspec": {
   "display_name": "Python 3",
   "language": "python",
   "name": "python3"
  },
  "language_info": {
   "codemirror_mode": {
    "name": "ipython",
    "version": 2
   },
   "file_extension": ".py",
   "mimetype": "text/x-python",
   "name": "python",
   "nbconvert_exporter": "python",
   "pygments_lexer": "ipython2",
   "version": "2.7.6"
  }
 },
 "nbformat": 4,
 "nbformat_minor": 0
}