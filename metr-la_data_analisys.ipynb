{
 "cells": [
  {
   "cell_type": "code",
   "execution_count": 1,
   "metadata": {
    "collapsed": true
   },
   "outputs": [],
   "source": [
    "import numpy as np\n",
    "import pandas as pd"
   ]
  },
  {
   "cell_type": "code",
   "execution_count": 2,
   "outputs": [],
   "source": [
    "data_train = np.load('datasets/METR-LA/train.npz')\n",
    "data_valid = np.load('datasets/METR-LA/val.npz')\n",
    "data_test = np.load('datasets/METR-LA/test.npz')"
   ],
   "metadata": {
    "collapsed": false,
    "pycharm": {
     "name": "#%%\n"
    }
   }
  },
  {
   "cell_type": "code",
   "execution_count": 3,
   "outputs": [
    {
     "name": "stdout",
     "output_type": "stream",
     "text": [
      "(23974, 12, 207, 2)\n",
      "(3425, 12, 207, 2)\n",
      "(6850, 12, 207, 2)\n"
     ]
    }
   ],
   "source": [
    "print(data_train['x'].shape)\n",
    "print(data_valid['x'].shape)\n",
    "print(data_test['x'].shape)"
   ],
   "metadata": {
    "collapsed": false,
    "pycharm": {
     "name": "#%%\n"
    }
   }
  },
  {
   "cell_type": "code",
   "execution_count": 4,
   "outputs": [
    {
     "name": "stdout",
     "output_type": "stream",
     "text": [
      "   index  sensor_id  latitude  longitude\n",
      "0      0     773869  34.15497 -118.31829\n",
      "1      1     767541  34.11621 -118.23799\n",
      "2      2     767542  34.11641 -118.23819\n",
      "3      3     717447  34.07248 -118.26772\n",
      "4      4     717446  34.07142 -118.26572\n",
      "[717508, 772597, 772178, 717504, 772167, 772140, 764781, 760024, 769430, 717499, 769444, 769359, 717495, 769345, 717493, 717570, 773880, 760987, 717573, 773869, 761003, 773904, 718204, 773953, 773916, 773927, 717578, 717580, 717583, 717585, 717587, 717592, 773974, 773995, 774011, 717595]\n",
      "[  0  24  36  37  41  42  43  45  47  52  54  60  67  73  76  82  87 111\n",
      " 115 118 130 142 145 148 150 153 164 168 169 171 172 173 179 197 202 203]\n"
     ]
    }
   ],
   "source": [
    "sensor_locations = pd.read_csv('datasets/METR-LA/graph_sensor_locations.csv')\n",
    "print(sensor_locations.head())\n",
    "sensors_filtered_ids = list(map(int, list(pd.read_csv('datasets/METR-LA/graph_sensor_ids_we.csv').columns)))\n",
    "print(sensors_filtered_ids)\n",
    "sensors_filtered_index = sensor_locations[sensor_locations['sensor_id'].isin(sensors_filtered_ids)]['index'].to_numpy()\n",
    "print(sensors_filtered_index)"
   ],
   "metadata": {
    "collapsed": false,
    "pycharm": {
     "name": "#%%\n"
    }
   }
  },
  {
   "cell_type": "code",
   "execution_count": 5,
   "outputs": [],
   "source": [
    "data_keys = ['x', 'y']\n",
    "data_train_filtered = {}\n",
    "data_valid_filtered = {}\n",
    "data_test_filtered = {}\n",
    "for key in data_keys:\n",
    "    data_train_filtered[key] = data_train[key][:,:,sensors_filtered_index,:]\n",
    "    data_valid_filtered[key] = data_valid[key][:,:,sensors_filtered_index,:]\n",
    "    data_test_filtered[key] = data_test[key][:,:,sensors_filtered_index,:]"
   ],
   "metadata": {
    "collapsed": false,
    "pycharm": {
     "name": "#%%\n"
    }
   }
  },
  {
   "cell_type": "code",
   "execution_count": 6,
   "outputs": [
    {
     "name": "stdout",
     "output_type": "stream",
     "text": [
      "(23974, 12, 36, 2)\n",
      "(23974, 12, 36, 2)\n",
      "(3425, 12, 36, 2)\n",
      "(3425, 12, 36, 2)\n",
      "(6850, 12, 36, 2)\n",
      "(6850, 12, 36, 2)\n"
     ]
    }
   ],
   "source": [
    "print(data_train_filtered['x'].shape)\n",
    "print(data_train_filtered['y'].shape)\n",
    "print(data_valid_filtered['x'].shape)\n",
    "print(data_valid_filtered['y'].shape)\n",
    "print(data_test_filtered['x'].shape)\n",
    "print(data_test_filtered['y'].shape)"
   ],
   "metadata": {
    "collapsed": false,
    "pycharm": {
     "name": "#%%\n"
    }
   }
  },
  {
   "cell_type": "code",
   "execution_count": 7,
   "outputs": [],
   "source": [
    "np.savez_compressed(\n",
    "            'datasets/METR-LA/train_filtered.npz',\n",
    "            x=data_train_filtered['x'],\n",
    "            y=data_train_filtered['y'],\n",
    "            x_offsets=data_train['x_offsets'],\n",
    "            y_offsets=data_train['y_offsets'],\n",
    "        )\n",
    "np.savez_compressed(\n",
    "            'datasets/METR-LA/val_filtered.npz',\n",
    "            x=data_valid_filtered['x'],\n",
    "            y=data_valid_filtered['y'],\n",
    "            x_offsets=data_valid['x_offsets'],\n",
    "            y_offsets=data_valid['y_offsets'],\n",
    "        )\n",
    "np.savez_compressed(\n",
    "            'datasets/METR-LA/test_filtered.npz',\n",
    "            x=data_test_filtered['x'],\n",
    "            y=data_test_filtered['y'],\n",
    "            x_offsets=data_test['x_offsets'],\n",
    "            y_offsets=data_test['y_offsets'],\n",
    "        )\n"
   ],
   "metadata": {
    "collapsed": false,
    "pycharm": {
     "name": "#%%\n"
    }
   }
  },
  {
   "cell_type": "code",
   "execution_count": 8,
   "outputs": [],
   "source": [
    "data_train.close()\n",
    "data_valid.close()\n",
    "data_test.close()"
   ],
   "metadata": {
    "collapsed": false,
    "pycharm": {
     "name": "#%%\n"
    }
   }
  }
 ],
 "metadata": {
  "kernelspec": {
   "display_name": "Python 3",
   "language": "python",
   "name": "python3"
  },
  "language_info": {
   "codemirror_mode": {
    "name": "ipython",
    "version": 2
   },
   "file_extension": ".py",
   "mimetype": "text/x-python",
   "name": "python",
   "nbconvert_exporter": "python",
   "pygments_lexer": "ipython2",
   "version": "2.7.6"
  }
 },
 "nbformat": 4,
 "nbformat_minor": 0
}