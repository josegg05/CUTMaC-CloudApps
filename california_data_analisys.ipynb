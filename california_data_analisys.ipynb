{
 "cells": [
  {
   "cell_type": "markdown",
   "metadata": {
    "pycharm": {
     "name": "#%% md\n"
    }
   },
   "source": [
    "# California Dataset Description"
   ]
  },
  {
   "cell_type": "markdown",
   "metadata": {
    "pycharm": {
     "name": "#%% md\n"
    }
   },
   "source": [
    "## Reading the I5-N3 dataset"
   ]
  },
  {
   "cell_type": "code",
   "execution_count": 1,
   "metadata": {
    "pycharm": {
     "name": "#%%\n"
    }
   },
   "outputs": [],
   "source": [
    "import pandas as pd\n",
    "import numpy as np\n",
    "import matplotlib.pyplot as plt\n",
    "import torch\n",
    "\n",
    "cali_dataset_2015 = pd.read_csv(\"datasets/california_paper_eRCNN/I5-N-3/2015.csv\")"
   ]
  },
  {
   "cell_type": "code",
   "execution_count": 2,
   "metadata": {
    "collapsed": true
   },
   "outputs": [
    {
     "data": {
      "text/plain": "   timestep  road_section   flow  density  speed\n0         0             0  213.0      2.3   64.6\n1         0             1   87.0      0.6   68.8\n2         0             2   81.6      0.5   72.8\n3         0             3   68.0      0.5   72.2\n4         0             4  102.0      0.6   69.1",
      "text/html": "<div>\n<style scoped>\n    .dataframe tbody tr th:only-of-type {\n        vertical-align: middle;\n    }\n\n    .dataframe tbody tr th {\n        vertical-align: top;\n    }\n\n    .dataframe thead th {\n        text-align: right;\n    }\n</style>\n<table border=\"1\" class=\"dataframe\">\n  <thead>\n    <tr style=\"text-align: right;\">\n      <th></th>\n      <th>timestep</th>\n      <th>road_section</th>\n      <th>flow</th>\n      <th>density</th>\n      <th>speed</th>\n    </tr>\n  </thead>\n  <tbody>\n    <tr>\n      <th>0</th>\n      <td>0</td>\n      <td>0</td>\n      <td>213.0</td>\n      <td>2.3</td>\n      <td>64.6</td>\n    </tr>\n    <tr>\n      <th>1</th>\n      <td>0</td>\n      <td>1</td>\n      <td>87.0</td>\n      <td>0.6</td>\n      <td>68.8</td>\n    </tr>\n    <tr>\n      <th>2</th>\n      <td>0</td>\n      <td>2</td>\n      <td>81.6</td>\n      <td>0.5</td>\n      <td>72.8</td>\n    </tr>\n    <tr>\n      <th>3</th>\n      <td>0</td>\n      <td>3</td>\n      <td>68.0</td>\n      <td>0.5</td>\n      <td>72.2</td>\n    </tr>\n    <tr>\n      <th>4</th>\n      <td>0</td>\n      <td>4</td>\n      <td>102.0</td>\n      <td>0.6</td>\n      <td>69.1</td>\n    </tr>\n  </tbody>\n</table>\n</div>"
     },
     "execution_count": 2,
     "metadata": {},
     "output_type": "execute_result"
    }
   ],
   "source": [
    "cali_dataset_2015.head()\n"
   ]
  },
  {
   "cell_type": "code",
   "execution_count": 3,
   "metadata": {
    "pycharm": {
     "name": "#%%\n"
    }
   },
   "outputs": [
    {
     "data": {
      "text/plain": "           timestep  road_section          flow       density         speed\ncount  2.835000e+06  2.835000e+06  2.835000e+06  2.835000e+06  2.835000e+06\nmean   5.249950e+04  1.300000e+01  9.641383e+02  7.627407e+00  6.436832e+01\nstd    3.031089e+04  7.788882e+00  5.244485e+02  6.054094e+00  9.542847e+00\nmin    0.000000e+00  0.000000e+00  0.000000e+00  0.000000e+00  3.000000e+00\n25%    2.624975e+04  6.000000e+00  4.940000e+02  3.400000e+00  6.300000e+01\n50%    5.249950e+04  1.300000e+01  1.051200e+03  6.800000e+00  6.660000e+01\n75%    7.874925e+04  2.000000e+01  1.365600e+03  9.600000e+00  6.970000e+01\nmax    1.049990e+05  2.600000e+01  2.730000e+03  7.580000e+01  8.620000e+01",
      "text/html": "<div>\n<style scoped>\n    .dataframe tbody tr th:only-of-type {\n        vertical-align: middle;\n    }\n\n    .dataframe tbody tr th {\n        vertical-align: top;\n    }\n\n    .dataframe thead th {\n        text-align: right;\n    }\n</style>\n<table border=\"1\" class=\"dataframe\">\n  <thead>\n    <tr style=\"text-align: right;\">\n      <th></th>\n      <th>timestep</th>\n      <th>road_section</th>\n      <th>flow</th>\n      <th>density</th>\n      <th>speed</th>\n    </tr>\n  </thead>\n  <tbody>\n    <tr>\n      <th>count</th>\n      <td>2.835000e+06</td>\n      <td>2.835000e+06</td>\n      <td>2.835000e+06</td>\n      <td>2.835000e+06</td>\n      <td>2.835000e+06</td>\n    </tr>\n    <tr>\n      <th>mean</th>\n      <td>5.249950e+04</td>\n      <td>1.300000e+01</td>\n      <td>9.641383e+02</td>\n      <td>7.627407e+00</td>\n      <td>6.436832e+01</td>\n    </tr>\n    <tr>\n      <th>std</th>\n      <td>3.031089e+04</td>\n      <td>7.788882e+00</td>\n      <td>5.244485e+02</td>\n      <td>6.054094e+00</td>\n      <td>9.542847e+00</td>\n    </tr>\n    <tr>\n      <th>min</th>\n      <td>0.000000e+00</td>\n      <td>0.000000e+00</td>\n      <td>0.000000e+00</td>\n      <td>0.000000e+00</td>\n      <td>3.000000e+00</td>\n    </tr>\n    <tr>\n      <th>25%</th>\n      <td>2.624975e+04</td>\n      <td>6.000000e+00</td>\n      <td>4.940000e+02</td>\n      <td>3.400000e+00</td>\n      <td>6.300000e+01</td>\n    </tr>\n    <tr>\n      <th>50%</th>\n      <td>5.249950e+04</td>\n      <td>1.300000e+01</td>\n      <td>1.051200e+03</td>\n      <td>6.800000e+00</td>\n      <td>6.660000e+01</td>\n    </tr>\n    <tr>\n      <th>75%</th>\n      <td>7.874925e+04</td>\n      <td>2.000000e+01</td>\n      <td>1.365600e+03</td>\n      <td>9.600000e+00</td>\n      <td>6.970000e+01</td>\n    </tr>\n    <tr>\n      <th>max</th>\n      <td>1.049990e+05</td>\n      <td>2.600000e+01</td>\n      <td>2.730000e+03</td>\n      <td>7.580000e+01</td>\n      <td>8.620000e+01</td>\n    </tr>\n  </tbody>\n</table>\n</div>"
     },
     "execution_count": 3,
     "metadata": {},
     "output_type": "execute_result"
    }
   ],
   "source": [
    "cali_dataset_2015.describe()"
   ]
  },
  {
   "cell_type": "markdown",
   "metadata": {
    "pycharm": {
     "name": "#%% md\n"
    }
   },
   "source": [
    "## Creating Image Dataset"
   ]
  },
  {
   "cell_type": "code",
   "execution_count": 5,
   "metadata": {
    "pycharm": {
     "name": "#%%\n"
    }
   },
   "outputs": [
    {
     "name": "stdout",
     "output_type": "stream",
     "text": [
      "Size of train_set = 104925\n",
      "Size of test_set = 104925\n"
     ]
    }
   ],
   "source": [
    "class STImageDataset(torch.utils.data.Dataset):\n",
    "    def __init__(self, data_file_name, image_size=72, data_size=0, pred_window=3, transforms=None):\n",
    "        self.data = pd.read_csv(data_file_name)\n",
    "        self.data = self.data.to_numpy()\n",
    "\n",
    "        if data_size == 0:\n",
    "            data_size = len(np.unique(self.data[:,0])) - image_size - pred_window\n",
    "            #print(len(np.unique(self.data[:,0])))\n",
    "        else:\n",
    "            self.data = self.data[:data_size + image_size]\n",
    "\n",
    "        self.detect_num = int(np.max(self.data[:, 1])+1)\n",
    "        self.image_size = image_size\n",
    "        self.data_size = data_size\n",
    "        self.pred_window = pred_window\n",
    "        self.transforms = transforms\n",
    "\n",
    "    def __len__(self):\n",
    "        return self.data_size\n",
    "\n",
    "    def __getitem__(self, idx):\n",
    "        image = self.data[idx * self.detect_num:(idx + self.image_size) * self.detect_num, 2:]\n",
    "        image = torch.from_numpy(image.astype(np.float32))\n",
    "        image = torch.reshape(image, (self.image_size, self.detect_num, -1))\n",
    "        image = image.permute(2, 1, 0)\n",
    "        label = self.data[((idx + self.image_size + self.pred_window) * self.detect_num)+int(self.detect_num/2), 2:]\n",
    "        label = torch.from_numpy(label.astype(np.float32))\n",
    "\n",
    "        if self.transforms:\n",
    "            image = self.transforms(image)\n",
    "\n",
    "        return image, label\n",
    "\n",
    "\n",
    "train_data_file_name = \"datasets/california_paper_eRCNN/I5-N-3/2015.csv\"\n",
    "train_set = STImageDataset(train_data_file_name)\n",
    "test_data_file_name = \"datasets/california_paper_eRCNN/I5-N-3/2016.csv\"\n",
    "test_set = STImageDataset(test_data_file_name)\n",
    "print(f\"Size of train_set = {len(train_set)}\")\n",
    "print(f\"Size of test_set = {len(test_set)}\")"
   ]
  },
  {
   "cell_type": "code",
   "execution_count": 6,
   "metadata": {
    "pycharm": {
     "name": "#%%\n"
    }
   },
   "outputs": [
    {
     "name": "stdout",
     "output_type": "stream",
     "text": [
      "torch.Size([3, 27, 72])\n",
      "tensor([[213.0000, 249.0000, 369.0000,  ..., 297.0000, 270.0000, 942.0000],\n",
      "        [ 87.0000, 195.0000, 285.0000,  ..., 237.0000, 198.0000, 786.0000],\n",
      "        [ 81.6000, 127.2000, 240.0000,  ..., 199.2000, 230.4000, 657.6000],\n",
      "        ...,\n",
      "        [271.2000, 297.6000, 489.6000,  ..., 309.6000, 357.6000, 784.8000],\n",
      "        [120.0000, 154.0000, 236.0000,  ..., 206.0000, 228.0000, 704.0000],\n",
      "        [139.2000, 168.0000, 240.0000,  ..., 256.8000, 280.8000, 794.4000]])\n",
      "tensor(1456.)\n",
      "tensor(349.4664)\n",
      "tensor([804.0000,   5.7000,  66.0000])\n"
     ]
    },
    {
     "data": {
      "image/png": "[encoded data removed]",
      "text/plain": [
       "<Figure size 432x288 with 1 Axes>"
      ]
     },
     "metadata": {
      "needs_background": "light"
     },
     "output_type": "display_data"
    },
    {
     "data": {
      "image/png": "[encoded data removed]",
      "text/plain": [
       "<Figure size 432x288 with 1 Axes>"
      ]
     },
     "metadata": {
      "needs_background": "light"
     },
     "output_type": "display_data"
    },
    {
     "data": {
      "image/png": "[encoded data removed]",
      "text/plain": [
       "<Figure size 432x288 with 1 Axes>"
      ]
     },
     "metadata": {
      "needs_background": "light"
     },
     "output_type": "display_data"
    }
   ],
   "source": [
    "image, label = train_set[0]\n",
    "print(image.shape)\n",
    "print(image[0])\n",
    "print(image[0].max())\n",
    "print(image[0].mean())\n",
    "print(label)\n",
    "\n",
    "for i in range(3):\n",
    "    image, label = train_set[i]\n",
    "    img = (image[2]/image[2].max())\n",
    "    plt.imshow(img)\n",
    "    plt.show()"
   ]
  },
  {
   "cell_type": "markdown",
   "metadata": {},
   "source": [
    "## Creating the CNN Model"
   ]
  },
  {
   "cell_type": "code",
   "execution_count": 27,
   "metadata": {
    "pycharm": {
     "name": "#%%\n"
    }
   },
   "outputs": [],
   "source": [
    "import torch.nn as nn\n",
    "\n",
    "class ResidualBlock(nn.Module):\n",
    "    def __init__(self, in_channels, out_channels, stride=1):\n",
    "        super(ResidualBlock, self).__init__()\n",
    "\n",
    "        # Conv Layer 1\n",
    "        self.conv1 = nn.Conv2d(\n",
    "            in_channels=in_channels, out_channels=out_channels,\n",
    "            kernel_size=(3, 3), stride=stride, padding=1, bias=False\n",
    "        )\n",
    "        self.bn1 = nn.BatchNorm2d(out_channels)\n",
    "\n",
    "        # Conv Layer 2\n",
    "        self.conv2 = nn.Conv2d(\n",
    "            in_channels=out_channels, out_channels=out_channels,\n",
    "            kernel_size=(3, 3), stride=1, padding=1, bias=False\n",
    "        )\n",
    "        self.bn2 = nn.BatchNorm2d(out_channels)\n",
    "\n",
    "        # Shortcut connection to downsample residual\n",
    "        # In case the output dimensions of the residual block is not the same\n",
    "        # as it's input, have a convolutional layer downsample the layer\n",
    "        # being bought forward by approporate striding and filters\n",
    "        self.shortcut = nn.Sequential()\n",
    "        if stride != 1 or in_channels != out_channels:\n",
    "            self.shortcut = nn.Sequential(\n",
    "                nn.Conv2d(\n",
    "                    in_channels=in_channels, out_channels=out_channels,\n",
    "                    kernel_size=(1, 1), stride=stride, bias=False\n",
    "                ),\n",
    "                nn.BatchNorm2d(out_channels)\n",
    "            )\n",
    "\n",
    "    def forward(self, x):\n",
    "        out = nn.ReLU()(self.bn1(self.conv1(x)))\n",
    "        out = self.bn2(self.conv2(out))\n",
    "        out += self.shortcut(x)\n",
    "        out = nn.ReLU()(out)\n",
    "        return out\n",
    "\n",
    "class CNN(nn.Module):\n",
    "    def __init__(self, in_channels=3, height=27, width=72):\n",
    "        super(CNN, self).__init__()\n",
    "\n",
    "        # Create blocks\n",
    "        self.block1 = self._create_block(in_channels, 32, stride=1)\n",
    "        self.block2 = self._create_block(32, 64, stride=1)\n",
    "        self.block3 = self._create_block(64, 96, stride=1)\n",
    "        self.linear1 = nn.Linear(96*height*width, 2048)\n",
    "        self.drop = nn.Dropout(p=0.6)\n",
    "        self.linear2 = nn.Linear(2048, 1024)\n",
    "        self.linear_out = nn.Linear(1024, 1)\n",
    "\n",
    "    # A block is just two residual blocks for ResNet18\n",
    "    def _create_block(self, in_channels, out_channels, stride):\n",
    "        return nn.Sequential(\n",
    "            ResidualBlock(in_channels, out_channels, stride),\n",
    "            ResidualBlock(out_channels, out_channels, 1),\n",
    "            ResidualBlock(out_channels, out_channels, 1)\n",
    "        )\n",
    "\n",
    "    def forward(self, x):\n",
    "\t# Output of one layer becomes input to the next\n",
    "        out = self.block1(x)\n",
    "        out = self.block2(out)\n",
    "        out = self.block3(out)\n",
    "        out = out.view(out.size(0), -1)\n",
    "        out = nn.ReLU()(self.linear1(out))\n",
    "        out = self.drop(out)\n",
    "        out = nn.ReLU()(self.linear2(out))\n",
    "        out = self.linear_out(out)\n",
    "        return out\n",
    "\n",
    "model = CNN(3,27,72)\n",
    "model = model.float()"
   ]
  },
  {
   "cell_type": "markdown",
   "metadata": {},
   "source": [
    "## Training the CNN\n"
   ]
  },
  {
   "cell_type": "code",
   "execution_count": 28,
   "metadata": {
    "pycharm": {
     "name": "#%%\n"
    }
   },
   "outputs": [
    {
     "name": "stderr",
     "output_type": "stream",
     "text": [
      "C:\\Users\\jose0\\anaconda3\\envs\\CUTMaC-CloudApps\\lib\\site-packages\\torch\\optim\\lr_scheduler.py:123: UserWarning: Detected call of `lr_scheduler.step()` before `optimizer.step()`. In PyTorch 1.1.0 and later, you should call them in the opposite order: `optimizer.step()` before `lr_scheduler.step()`.  Failure to do this will result in PyTorch skipping the first value of the learning rate schedule. See more details at https://pytorch.org/docs/stable/optim.html#how-to-adjust-learning-rate\n",
      "  \"https://pytorch.org/docs/stable/optim.html#how-to-adjust-learning-rate\", UserWarning)\n",
      "C:\\Users\\jose0\\anaconda3\\envs\\CUTMaC-CloudApps\\lib\\site-packages\\torch\\nn\\modules\\loss.py:445: UserWarning: Using a target size (torch.Size([3])) that is different to the input size (torch.Size([50, 1])). This will likely lead to incorrect results due to broadcasting. Please ensure they have the same size.\n",
      "  return F.mse_loss(input, target, reduction=self.reduction)\n"
     ]
    },
    {
     "name": "stdout",
     "output_type": "stream",
     "text": [
      "Batch Index : 0 Loss : 682723.375 Time : 47.108 seconds \n",
      "Batch Index : 100 Loss : 258958.012 Time : 2878.389 seconds \n"
     ]
    },
    {
     "ename": "KeyboardInterrupt",
     "evalue": "",
     "output_type": "error",
     "traceback": [
      "\u001B[1;31m---------------------------------------------------------------------------\u001B[0m",
      "\u001B[1;31mKeyboardInterrupt\u001B[0m                         Traceback (most recent call last)",
      "\u001B[1;32m<ipython-input-28-452165493e99>\u001B[0m in \u001B[0;36m<module>\u001B[1;34m\u001B[0m\n\u001B[0;32m     18\u001B[0m     \u001B[1;31m# Train\u001B[0m\u001B[1;33m\u001B[0m\u001B[1;33m\u001B[0m\u001B[1;33m\u001B[0m\u001B[0m\n\u001B[0;32m     19\u001B[0m     \u001B[0mstart\u001B[0m \u001B[1;33m=\u001B[0m \u001B[0mtime\u001B[0m\u001B[1;33m.\u001B[0m\u001B[0mtime\u001B[0m\u001B[1;33m(\u001B[0m\u001B[1;33m)\u001B[0m\u001B[1;33m\u001B[0m\u001B[1;33m\u001B[0m\u001B[0m\n\u001B[1;32m---> 20\u001B[1;33m     \u001B[1;32mfor\u001B[0m \u001B[0mbatch_idx\u001B[0m\u001B[1;33m,\u001B[0m \u001B[1;33m(\u001B[0m\u001B[0minputs\u001B[0m\u001B[1;33m,\u001B[0m \u001B[0mtargets\u001B[0m\u001B[1;33m)\u001B[0m \u001B[1;32min\u001B[0m \u001B[0menumerate\u001B[0m\u001B[1;33m(\u001B[0m\u001B[0mtrain_loader\u001B[0m\u001B[1;33m)\u001B[0m\u001B[1;33m:\u001B[0m\u001B[1;33m\u001B[0m\u001B[1;33m\u001B[0m\u001B[0m\n\u001B[0m\u001B[0;32m     21\u001B[0m         \u001B[0mtargets\u001B[0m\u001B[1;33m=\u001B[0m\u001B[0mtargets\u001B[0m\u001B[1;33m[\u001B[0m\u001B[1;36m2\u001B[0m\u001B[1;33m]\u001B[0m\u001B[1;33m\u001B[0m\u001B[1;33m\u001B[0m\u001B[0m\n\u001B[0;32m     22\u001B[0m         \u001B[0minputs\u001B[0m\u001B[1;33m,\u001B[0m \u001B[0mtargets\u001B[0m \u001B[1;33m=\u001B[0m \u001B[0minputs\u001B[0m\u001B[1;33m.\u001B[0m\u001B[0mto\u001B[0m\u001B[1;33m(\u001B[0m\u001B[0mdevice\u001B[0m\u001B[1;33m)\u001B[0m\u001B[1;33m,\u001B[0m \u001B[0mtargets\u001B[0m\u001B[1;33m.\u001B[0m\u001B[0mto\u001B[0m\u001B[1;33m(\u001B[0m\u001B[0mdevice\u001B[0m\u001B[1;33m)\u001B[0m\u001B[1;33m\u001B[0m\u001B[1;33m\u001B[0m\u001B[0m\n",
      "\u001B[1;32m~\\anaconda3\\envs\\CUTMaC-CloudApps\\lib\\site-packages\\torch\\utils\\data\\dataloader.py\u001B[0m in \u001B[0;36m__next__\u001B[1;34m(self)\u001B[0m\n\u001B[0;32m    361\u001B[0m \u001B[1;33m\u001B[0m\u001B[0m\n\u001B[0;32m    362\u001B[0m     \u001B[1;32mdef\u001B[0m \u001B[0m__next__\u001B[0m\u001B[1;33m(\u001B[0m\u001B[0mself\u001B[0m\u001B[1;33m)\u001B[0m\u001B[1;33m:\u001B[0m\u001B[1;33m\u001B[0m\u001B[1;33m\u001B[0m\u001B[0m\n\u001B[1;32m--> 363\u001B[1;33m         \u001B[0mdata\u001B[0m \u001B[1;33m=\u001B[0m \u001B[0mself\u001B[0m\u001B[1;33m.\u001B[0m\u001B[0m_next_data\u001B[0m\u001B[1;33m(\u001B[0m\u001B[1;33m)\u001B[0m\u001B[1;33m\u001B[0m\u001B[1;33m\u001B[0m\u001B[0m\n\u001B[0m\u001B[0;32m    364\u001B[0m         \u001B[0mself\u001B[0m\u001B[1;33m.\u001B[0m\u001B[0m_num_yielded\u001B[0m \u001B[1;33m+=\u001B[0m \u001B[1;36m1\u001B[0m\u001B[1;33m\u001B[0m\u001B[1;33m\u001B[0m\u001B[0m\n\u001B[0;32m    365\u001B[0m         \u001B[1;32mif\u001B[0m \u001B[0mself\u001B[0m\u001B[1;33m.\u001B[0m\u001B[0m_dataset_kind\u001B[0m \u001B[1;33m==\u001B[0m \u001B[0m_DatasetKind\u001B[0m\u001B[1;33m.\u001B[0m\u001B[0mIterable\u001B[0m \u001B[1;32mand\u001B[0m\u001B[0;31m \u001B[0m\u001B[0;31m\\\u001B[0m\u001B[1;33m\u001B[0m\u001B[1;33m\u001B[0m\u001B[0m\n",
      "\u001B[1;32m~\\anaconda3\\envs\\CUTMaC-CloudApps\\lib\\site-packages\\torch\\utils\\data\\dataloader.py\u001B[0m in \u001B[0;36m_next_data\u001B[1;34m(self)\u001B[0m\n\u001B[0;32m    401\u001B[0m     \u001B[1;32mdef\u001B[0m \u001B[0m_next_data\u001B[0m\u001B[1;33m(\u001B[0m\u001B[0mself\u001B[0m\u001B[1;33m)\u001B[0m\u001B[1;33m:\u001B[0m\u001B[1;33m\u001B[0m\u001B[1;33m\u001B[0m\u001B[0m\n\u001B[0;32m    402\u001B[0m         \u001B[0mindex\u001B[0m \u001B[1;33m=\u001B[0m \u001B[0mself\u001B[0m\u001B[1;33m.\u001B[0m\u001B[0m_next_index\u001B[0m\u001B[1;33m(\u001B[0m\u001B[1;33m)\u001B[0m  \u001B[1;31m# may raise StopIteration\u001B[0m\u001B[1;33m\u001B[0m\u001B[1;33m\u001B[0m\u001B[0m\n\u001B[1;32m--> 403\u001B[1;33m         \u001B[0mdata\u001B[0m \u001B[1;33m=\u001B[0m \u001B[0mself\u001B[0m\u001B[1;33m.\u001B[0m\u001B[0m_dataset_fetcher\u001B[0m\u001B[1;33m.\u001B[0m\u001B[0mfetch\u001B[0m\u001B[1;33m(\u001B[0m\u001B[0mindex\u001B[0m\u001B[1;33m)\u001B[0m  \u001B[1;31m# may raise StopIteration\u001B[0m\u001B[1;33m\u001B[0m\u001B[1;33m\u001B[0m\u001B[0m\n\u001B[0m\u001B[0;32m    404\u001B[0m         \u001B[1;32mif\u001B[0m \u001B[0mself\u001B[0m\u001B[1;33m.\u001B[0m\u001B[0m_pin_memory\u001B[0m\u001B[1;33m:\u001B[0m\u001B[1;33m\u001B[0m\u001B[1;33m\u001B[0m\u001B[0m\n\u001B[0;32m    405\u001B[0m             \u001B[0mdata\u001B[0m \u001B[1;33m=\u001B[0m \u001B[0m_utils\u001B[0m\u001B[1;33m.\u001B[0m\u001B[0mpin_memory\u001B[0m\u001B[1;33m.\u001B[0m\u001B[0mpin_memory\u001B[0m\u001B[1;33m(\u001B[0m\u001B[0mdata\u001B[0m\u001B[1;33m)\u001B[0m\u001B[1;33m\u001B[0m\u001B[1;33m\u001B[0m\u001B[0m\n",
      "\u001B[1;32m~\\anaconda3\\envs\\CUTMaC-CloudApps\\lib\\site-packages\\torch\\utils\\data\\_utils\\fetch.py\u001B[0m in \u001B[0;36mfetch\u001B[1;34m(self, possibly_batched_index)\u001B[0m\n\u001B[0;32m     42\u001B[0m     \u001B[1;32mdef\u001B[0m \u001B[0mfetch\u001B[0m\u001B[1;33m(\u001B[0m\u001B[0mself\u001B[0m\u001B[1;33m,\u001B[0m \u001B[0mpossibly_batched_index\u001B[0m\u001B[1;33m)\u001B[0m\u001B[1;33m:\u001B[0m\u001B[1;33m\u001B[0m\u001B[1;33m\u001B[0m\u001B[0m\n\u001B[0;32m     43\u001B[0m         \u001B[1;32mif\u001B[0m \u001B[0mself\u001B[0m\u001B[1;33m.\u001B[0m\u001B[0mauto_collation\u001B[0m\u001B[1;33m:\u001B[0m\u001B[1;33m\u001B[0m\u001B[1;33m\u001B[0m\u001B[0m\n\u001B[1;32m---> 44\u001B[1;33m             \u001B[0mdata\u001B[0m \u001B[1;33m=\u001B[0m \u001B[1;33m[\u001B[0m\u001B[0mself\u001B[0m\u001B[1;33m.\u001B[0m\u001B[0mdataset\u001B[0m\u001B[1;33m[\u001B[0m\u001B[0midx\u001B[0m\u001B[1;33m]\u001B[0m \u001B[1;32mfor\u001B[0m \u001B[0midx\u001B[0m \u001B[1;32min\u001B[0m \u001B[0mpossibly_batched_index\u001B[0m\u001B[1;33m]\u001B[0m\u001B[1;33m\u001B[0m\u001B[1;33m\u001B[0m\u001B[0m\n\u001B[0m\u001B[0;32m     45\u001B[0m         \u001B[1;32melse\u001B[0m\u001B[1;33m:\u001B[0m\u001B[1;33m\u001B[0m\u001B[1;33m\u001B[0m\u001B[0m\n\u001B[0;32m     46\u001B[0m             \u001B[0mdata\u001B[0m \u001B[1;33m=\u001B[0m \u001B[0mself\u001B[0m\u001B[1;33m.\u001B[0m\u001B[0mdataset\u001B[0m\u001B[1;33m[\u001B[0m\u001B[0mpossibly_batched_index\u001B[0m\u001B[1;33m]\u001B[0m\u001B[1;33m\u001B[0m\u001B[1;33m\u001B[0m\u001B[0m\n",
      "\u001B[1;32m~\\anaconda3\\envs\\CUTMaC-CloudApps\\lib\\site-packages\\torch\\utils\\data\\_utils\\fetch.py\u001B[0m in \u001B[0;36m<listcomp>\u001B[1;34m(.0)\u001B[0m\n\u001B[0;32m     42\u001B[0m     \u001B[1;32mdef\u001B[0m \u001B[0mfetch\u001B[0m\u001B[1;33m(\u001B[0m\u001B[0mself\u001B[0m\u001B[1;33m,\u001B[0m \u001B[0mpossibly_batched_index\u001B[0m\u001B[1;33m)\u001B[0m\u001B[1;33m:\u001B[0m\u001B[1;33m\u001B[0m\u001B[1;33m\u001B[0m\u001B[0m\n\u001B[0;32m     43\u001B[0m         \u001B[1;32mif\u001B[0m \u001B[0mself\u001B[0m\u001B[1;33m.\u001B[0m\u001B[0mauto_collation\u001B[0m\u001B[1;33m:\u001B[0m\u001B[1;33m\u001B[0m\u001B[1;33m\u001B[0m\u001B[0m\n\u001B[1;32m---> 44\u001B[1;33m             \u001B[0mdata\u001B[0m \u001B[1;33m=\u001B[0m \u001B[1;33m[\u001B[0m\u001B[0mself\u001B[0m\u001B[1;33m.\u001B[0m\u001B[0mdataset\u001B[0m\u001B[1;33m[\u001B[0m\u001B[0midx\u001B[0m\u001B[1;33m]\u001B[0m \u001B[1;32mfor\u001B[0m \u001B[0midx\u001B[0m \u001B[1;32min\u001B[0m \u001B[0mpossibly_batched_index\u001B[0m\u001B[1;33m]\u001B[0m\u001B[1;33m\u001B[0m\u001B[1;33m\u001B[0m\u001B[0m\n\u001B[0m\u001B[0;32m     45\u001B[0m         \u001B[1;32melse\u001B[0m\u001B[1;33m:\u001B[0m\u001B[1;33m\u001B[0m\u001B[1;33m\u001B[0m\u001B[0m\n\u001B[0;32m     46\u001B[0m             \u001B[0mdata\u001B[0m \u001B[1;33m=\u001B[0m \u001B[0mself\u001B[0m\u001B[1;33m.\u001B[0m\u001B[0mdataset\u001B[0m\u001B[1;33m[\u001B[0m\u001B[0mpossibly_batched_index\u001B[0m\u001B[1;33m]\u001B[0m\u001B[1;33m\u001B[0m\u001B[1;33m\u001B[0m\u001B[0m\n",
      "\u001B[1;32m<ipython-input-25-bfec8d202ab9>\u001B[0m in \u001B[0;36m__getitem__\u001B[1;34m(self, idx)\u001B[0m\n\u001B[0;32m     22\u001B[0m         \u001B[0mimage\u001B[0m \u001B[1;33m=\u001B[0m \u001B[0mtorch\u001B[0m\u001B[1;33m.\u001B[0m\u001B[0mfrom_numpy\u001B[0m\u001B[1;33m(\u001B[0m\u001B[0mimage\u001B[0m\u001B[1;33m.\u001B[0m\u001B[0mastype\u001B[0m\u001B[1;33m(\u001B[0m\u001B[0mnp\u001B[0m\u001B[1;33m.\u001B[0m\u001B[0mfloat32\u001B[0m\u001B[1;33m)\u001B[0m\u001B[1;33m)\u001B[0m\u001B[1;33m\u001B[0m\u001B[1;33m\u001B[0m\u001B[0m\n\u001B[0;32m     23\u001B[0m         \u001B[0mimage\u001B[0m \u001B[1;33m=\u001B[0m \u001B[0mtorch\u001B[0m\u001B[1;33m.\u001B[0m\u001B[0mreshape\u001B[0m\u001B[1;33m(\u001B[0m\u001B[0mimage\u001B[0m\u001B[1;33m,\u001B[0m \u001B[1;33m(\u001B[0m\u001B[0mself\u001B[0m\u001B[1;33m.\u001B[0m\u001B[0mimage_size\u001B[0m\u001B[1;33m,\u001B[0m \u001B[0mself\u001B[0m\u001B[1;33m.\u001B[0m\u001B[0mdetect_num\u001B[0m\u001B[1;33m,\u001B[0m \u001B[1;33m-\u001B[0m\u001B[1;36m1\u001B[0m\u001B[1;33m)\u001B[0m\u001B[1;33m)\u001B[0m\u001B[1;33m\u001B[0m\u001B[1;33m\u001B[0m\u001B[0m\n\u001B[1;32m---> 24\u001B[1;33m         \u001B[0mimage\u001B[0m \u001B[1;33m=\u001B[0m \u001B[0mimage\u001B[0m\u001B[1;33m.\u001B[0m\u001B[0mpermute\u001B[0m\u001B[1;33m(\u001B[0m\u001B[1;36m2\u001B[0m\u001B[1;33m,\u001B[0m \u001B[1;36m1\u001B[0m\u001B[1;33m,\u001B[0m \u001B[1;36m0\u001B[0m\u001B[1;33m)\u001B[0m\u001B[1;33m\u001B[0m\u001B[1;33m\u001B[0m\u001B[0m\n\u001B[0m\u001B[0;32m     25\u001B[0m         \u001B[0mlabel\u001B[0m \u001B[1;33m=\u001B[0m \u001B[0mself\u001B[0m\u001B[1;33m.\u001B[0m\u001B[0mdata\u001B[0m\u001B[1;33m[\u001B[0m\u001B[1;33m(\u001B[0m\u001B[1;33m(\u001B[0m\u001B[0midx\u001B[0m \u001B[1;33m+\u001B[0m \u001B[0mself\u001B[0m\u001B[1;33m.\u001B[0m\u001B[0mimage_size\u001B[0m \u001B[1;33m+\u001B[0m \u001B[1;36m3\u001B[0m\u001B[1;33m)\u001B[0m \u001B[1;33m*\u001B[0m \u001B[0mself\u001B[0m\u001B[1;33m.\u001B[0m\u001B[0mdetect_num\u001B[0m\u001B[1;33m)\u001B[0m\u001B[1;33m+\u001B[0m\u001B[0mint\u001B[0m\u001B[1;33m(\u001B[0m\u001B[0mself\u001B[0m\u001B[1;33m.\u001B[0m\u001B[0mdetect_num\u001B[0m\u001B[1;33m/\u001B[0m\u001B[1;36m2\u001B[0m\u001B[1;33m)\u001B[0m\u001B[1;33m,\u001B[0m \u001B[1;36m2\u001B[0m\u001B[1;33m:\u001B[0m\u001B[1;33m]\u001B[0m\u001B[1;33m\u001B[0m\u001B[1;33m\u001B[0m\u001B[0m\n\u001B[0;32m     26\u001B[0m         \u001B[0mlabel\u001B[0m \u001B[1;33m=\u001B[0m \u001B[0mtorch\u001B[0m\u001B[1;33m.\u001B[0m\u001B[0mfrom_numpy\u001B[0m\u001B[1;33m(\u001B[0m\u001B[0mlabel\u001B[0m\u001B[1;33m.\u001B[0m\u001B[0mastype\u001B[0m\u001B[1;33m(\u001B[0m\u001B[0mnp\u001B[0m\u001B[1;33m.\u001B[0m\u001B[0mfloat32\u001B[0m\u001B[1;33m)\u001B[0m\u001B[1;33m)\u001B[0m\u001B[1;33m\u001B[0m\u001B[1;33m\u001B[0m\u001B[0m\n",
      "\u001B[1;31mKeyboardInterrupt\u001B[0m: "
     ]
    }
   ],
   "source": [
    "from torch import optim\n",
    "import time\n",
    "# Define Dataloader\n",
    "train_loader = torch.utils.data.DataLoader(train_set, batch_size=50, shuffle=True)\n",
    "test_loader = torch.utils.data.DataLoader(test_set, batch_size=50, shuffle=True)\n",
    "\n",
    "device = torch.device(\"cuda:0\" if torch.cuda.is_available() else \"cpu\")     #Check whether a GPU is present.\n",
    "\n",
    "model.to(device)   #Put the network on GPU if present\n",
    "\n",
    "criterion = nn.MSELoss() # L2 Norm\n",
    "optimizer = optim.Adam(model.parameters(), lr=1e-3) # ADAM with lr=10^-4\n",
    "scheduler = torch.optim.lr_scheduler.ExponentialLR(optimizer, gamma=0.1) # exponential decay every epoch = 2000iter\n",
    "\n",
    "for epoch in range(10): #10 epochs\n",
    "    losses = []\n",
    "    scheduler.step()\n",
    "    # Train\n",
    "    start = time.time()\n",
    "    for batch_idx, (inputs, targets) in enumerate(train_loader):\n",
    "        targets=targets[2]\n",
    "        inputs, targets = inputs.to(device), targets.to(device)\n",
    "\n",
    "        optimizer.zero_grad()                 # Zero the gradients\n",
    "\n",
    "        outputs = model(inputs.float())                 # Forward pass\n",
    "        loss = criterion(outputs, targets)    # Compute the Loss\n",
    "        loss.backward()                       # Compute the Gradients\n",
    "\n",
    "        #nn.utils.clip_grad_norm(model.parameters(), 40) # gradient cliping norm for ercnn\n",
    "        optimizer.step()                      # Updated the weights\n",
    "        losses.append(loss.item())\n",
    "        end = time.time()\n",
    "\n",
    "        if batch_idx % 100 == 0:\n",
    "          print('Batch Index : %d Loss : %.3f Time : %.3f seconds ' % (batch_idx, np.mean(losses), end - start))\n",
    "\n",
    "          start = time.time()\n",
    "    # Evaluate\n",
    "    model.eval()\n",
    "    total = 0\n",
    "    losses_test = []\n",
    "\n",
    "    with torch.no_grad():\n",
    "        for batch_idx, (inputs, targets) in enumerate(test_loader):\n",
    "            targets=targets[2]\n",
    "            inputs, targets = inputs.to(device), targets.to(device)\n",
    "\n",
    "            outputs = model(inputs.float())                 # Forward pass\n",
    "            loss = criterion(outputs, targets)    # Compute the Loss\n",
    "\n",
    "            losses_test.append(loss.item())\n",
    "\n",
    "            if batch_idx % 100 == 0:\n",
    "                print('Batch Index : %d Loss : %.3f' % (batch_idx, np.mean(losses)))\n",
    "\n",
    "        print('--------------------------------------------------------------')\n",
    "    model.train()"
   ]
  },
  {
   "cell_type": "markdown",
   "metadata": {},
   "source": [
    "## Creating Image Series Dataset"
   ]
  },
  {
   "cell_type": "code",
   "execution_count": 8,
   "metadata": {
    "pycharm": {
     "name": "#%%\n"
    }
   },
   "outputs": [
    {
     "name": "stdout",
     "output_type": "stream",
     "text": [
      "Size of train_set = 104853\n",
      "Size of test_set = 104853\n"
     ]
    }
   ],
   "source": [
    "class STImgSerieDataset(torch.utils.data.Dataset):\n",
    "    def __init__(self, data_file_name, seq_size=72, image_size=72, data_size=0, pred_window=3,transforms=None):\n",
    "        self.data = pd.read_csv(data_file_name)\n",
    "        self.data = self.data.to_numpy()\n",
    "        self.detect_num = int(np.max(self.data[:, 1])+1)\n",
    "\n",
    "        if data_size == 0:\n",
    "            data_size = len(np.unique(self.data[:,0])) - seq_size - image_size - pred_window\n",
    "            #print(len(np.unique(self.data[:,0])))\n",
    "        else:\n",
    "            self.data = self.data[:(data_size + seq_size + image_size + pred_window) * self.detect_num]\n",
    "\n",
    "        self.var_num = self.data.shape[1]-2\n",
    "        self.seq_size = seq_size\n",
    "        self.image_size = image_size\n",
    "        self.data_size = data_size\n",
    "        self.pred_window = pred_window\n",
    "        self.transforms = transforms\n",
    "\n",
    "    def __len__(self):\n",
    "        return self.data_size\n",
    "\n",
    "    def __getitem__(self, idx):\n",
    "        image_seq=[]\n",
    "        labels_seq=[]\n",
    "        for sq in range(self.seq_size):\n",
    "            image = self.data[(idx + sq) * self.detect_num:(idx + sq + self.image_size) * self.detect_num, 2:]\n",
    "            image = torch.from_numpy(image.astype(np.float32))\n",
    "            image = torch.reshape(image, (self.image_size, self.detect_num, -1))\n",
    "            image = image.permute(2, 1, 0)\n",
    "            image.unsqueeze_(0)\n",
    "            label = self.data[((idx + sq + self.image_size + self.pred_window) * self.detect_num)+int(self.detect_num/2), 2:]\n",
    "            label = torch.from_numpy(label.astype(np.float32))\n",
    "            label.unsqueeze_(0)\n",
    "            image_seq.append(image)\n",
    "            labels_seq.append(label)\n",
    "        image_seq=torch.cat(image_seq, out=torch.Tensor(self.seq_size, self.var_num, self.detect_num, self.image_size))\n",
    "        labels_seq=torch.cat(labels_seq)\n",
    "        if self.transforms:\n",
    "            image_seq = self.transforms(image_seq)\n",
    "\n",
    "        return image_seq, labels_seq\n",
    "\n",
    "\n",
    "train_data_file_name = \"datasets/california_paper_eRCNN/I5-N-3/2015.csv\"\n",
    "train_set = STImgSerieDataset(train_data_file_name)\n",
    "test_data_file_name = \"datasets/california_paper_eRCNN/I5-N-3/2016.csv\"\n",
    "test_set = STImgSerieDataset(test_data_file_name)\n",
    "print(f\"Size of train_set = {len(train_set)}\")\n",
    "print(f\"Size of test_set = {len(test_set)}\")"
   ]
  },
  {
   "cell_type": "code",
   "execution_count": 9,
   "metadata": {
    "pycharm": {
     "name": "#%%\n"
    }
   },
   "outputs": [
    {
     "name": "stdout",
     "output_type": "stream",
     "text": [
      "torch.Size([72, 3, 27, 72])\n",
      "tensor([[[2.1300e+02, 2.4900e+02, 3.6900e+02,  ..., 2.9700e+02,\n",
      "          2.7000e+02, 9.4200e+02],\n",
      "         [8.7000e+01, 1.9500e+02, 2.8500e+02,  ..., 2.3700e+02,\n",
      "          1.9800e+02, 7.8600e+02],\n",
      "         [8.1600e+01, 1.2720e+02, 2.4000e+02,  ..., 1.9920e+02,\n",
      "          2.3040e+02, 6.5760e+02],\n",
      "         ...,\n",
      "         [2.7120e+02, 2.9760e+02, 4.8960e+02,  ..., 3.0960e+02,\n",
      "          3.5760e+02, 7.8480e+02],\n",
      "         [1.2000e+02, 1.5400e+02, 2.3600e+02,  ..., 2.0600e+02,\n",
      "          2.2800e+02, 7.0400e+02],\n",
      "         [1.3920e+02, 1.6800e+02, 2.4000e+02,  ..., 2.5680e+02,\n",
      "          2.8080e+02, 7.9440e+02]],\n",
      "\n",
      "        [[2.3000e+00, 2.6000e+00, 3.1000e+00,  ..., 2.8000e+00,\n",
      "          2.8000e+00, 6.0000e+00],\n",
      "         [6.0000e-01, 1.3000e+00, 1.7000e+00,  ..., 1.4000e+00,\n",
      "          1.3000e+00, 4.9000e+00],\n",
      "         [5.0000e-01, 8.0000e-01, 1.3000e+00,  ..., 1.1000e+00,\n",
      "          1.2000e+00, 3.9000e+00],\n",
      "         ...,\n",
      "         [1.8000e+00, 1.8000e+00, 2.8000e+00,  ..., 1.8000e+00,\n",
      "          1.9000e+00, 5.1000e+00],\n",
      "         [8.0000e-01, 9.0000e-01, 1.4000e+00,  ..., 1.2000e+00,\n",
      "          1.3000e+00, 4.6000e+00],\n",
      "         [9.0000e-01, 1.0000e+00, 1.5000e+00,  ..., 1.5000e+00,\n",
      "          1.7000e+00, 5.6000e+00]],\n",
      "\n",
      "        [[6.4600e+01, 6.4800e+01, 6.5400e+01,  ..., 6.4800e+01,\n",
      "          6.4700e+01, 6.9500e+01],\n",
      "         [6.8800e+01, 6.8800e+01, 6.8300e+01,  ..., 6.9700e+01,\n",
      "          6.8400e+01, 6.7700e+01],\n",
      "         [7.2800e+01, 7.2300e+01, 7.2400e+01,  ..., 7.2400e+01,\n",
      "          7.2500e+01, 7.1500e+01],\n",
      "         ...,\n",
      "         [7.0700e+01, 7.3300e+01, 7.4300e+01,  ..., 7.4100e+01,\n",
      "          7.5500e+01, 7.6400e+01],\n",
      "         [7.0600e+01, 7.0800e+01, 7.0000e+01,  ..., 7.1800e+01,\n",
      "          7.1500e+01, 6.7000e+01],\n",
      "         [7.2600e+01, 7.1800e+01, 7.1700e+01,  ..., 7.2400e+01,\n",
      "          7.3500e+01, 6.7400e+01]]])\n",
      "tensor(1456.)\n",
      "tensor(140.4084)\n",
      "torch.Size([72, 3])\n",
      "tensor([[ 804.0000,    5.7000,   66.0000],\n",
      "        [ 324.0000,    2.3000,   68.1000],\n",
      "        [ 280.8000,    2.0000,   70.2000],\n",
      "        [ 295.2000,    2.0000,   71.2000],\n",
      "        [ 292.8000,    2.1000,   71.5000],\n",
      "        [ 309.6000,    2.1000,   71.2000],\n",
      "        [ 302.4000,    2.2000,   71.1000],\n",
      "        [ 345.6000,    2.3000,   71.3000],\n",
      "        [ 288.0000,    2.1000,   71.4000],\n",
      "        [ 300.0000,    2.2000,   70.5000],\n",
      "        [ 316.8000,    2.1000,   71.1000],\n",
      "        [ 302.4000,    2.1000,   70.8000],\n",
      "        [ 352.8000,    2.2000,   72.1000],\n",
      "        [ 381.6000,    2.7000,   70.7000],\n",
      "        [ 403.2000,    2.7000,   71.0000],\n",
      "        [ 388.8000,    2.6000,   70.9000],\n",
      "        [ 475.2000,    3.3000,   69.9000],\n",
      "        [1231.2000,   15.6000,   41.6000],\n",
      "        [1394.4000,   13.5000,   44.7000],\n",
      "        [ 367.2000,    2.3000,   71.4000],\n",
      "        [ 429.6000,    2.7000,   71.6000],\n",
      "        [ 408.0000,    2.7000,   71.2000],\n",
      "        [ 393.6000,    2.7000,   70.4000],\n",
      "        [ 523.2000,    3.4000,   71.2000],\n",
      "        [1216.8000,    8.9000,   55.0000],\n",
      "        [ 432.0000,    2.8000,   72.7000],\n",
      "        [ 439.2000,    2.8000,   71.8000],\n",
      "        [ 496.8000,    3.3000,   71.2000],\n",
      "        [ 477.6000,    3.0000,   71.2000],\n",
      "        [ 396.0000,    2.8000,   69.2000],\n",
      "        [ 508.8000,    3.4000,   70.1000],\n",
      "        [ 504.0000,    3.3000,   69.6000],\n",
      "        [ 592.8000,    3.8000,   70.1000],\n",
      "        [ 561.6000,    3.8000,   70.0000],\n",
      "        [ 518.4000,    3.4000,   70.2000],\n",
      "        [ 549.6000,    3.6000,   70.8000],\n",
      "        [ 676.8000,    4.1000,   72.2000],\n",
      "        [ 520.8000,    3.1000,   71.9000],\n",
      "        [ 544.8000,    3.5000,   71.2000],\n",
      "        [ 636.0000,    3.9000,   71.2000],\n",
      "        [1159.2000,    8.6000,   62.6000],\n",
      "        [1219.2000,    8.9000,   60.6000],\n",
      "        [ 667.2000,    4.2000,   71.3000],\n",
      "        [ 676.8000,    3.9000,   73.0000],\n",
      "        [1183.2000,    9.4000,   57.9000],\n",
      "        [ 729.6000,    4.4000,   73.4000],\n",
      "        [ 780.0000,    4.6000,   72.8000],\n",
      "        [ 782.4000,    4.9000,   71.3000],\n",
      "        [ 816.0000,    5.1000,   70.6000],\n",
      "        [ 813.6000,    5.1000,   70.7000],\n",
      "        [ 739.2000,    4.8000,   68.0000],\n",
      "        [ 734.4000,    4.6000,   68.5000],\n",
      "        [ 844.8000,    5.5000,   67.9000],\n",
      "        [ 890.4000,    5.5000,   69.6000],\n",
      "        [ 900.0000,    5.7000,   69.0000],\n",
      "        [ 816.0000,    5.3000,   68.1000],\n",
      "        [ 948.0000,    6.1000,   67.6000],\n",
      "        [ 813.6000,    5.2000,   68.4000],\n",
      "        [ 801.6000,    5.1000,   67.9000],\n",
      "        [ 859.2000,    5.4000,   68.3000],\n",
      "        [ 732.0000,    4.6000,   68.2000],\n",
      "        [ 861.6000,    5.4000,   68.6000],\n",
      "        [ 775.2000,    4.9000,   68.8000],\n",
      "        [ 976.8000,    6.0000,   69.8000],\n",
      "        [ 943.2000,    6.1000,   68.9000],\n",
      "        [ 964.8000,    6.2000,   68.2000],\n",
      "        [ 890.4000,    5.9000,   66.9000],\n",
      "        [ 926.4000,    5.6000,   68.2000],\n",
      "        [ 991.2000,    6.2000,   68.4000],\n",
      "        [ 931.2000,    5.8000,   68.6000],\n",
      "        [ 871.2000,    5.6000,   68.1000],\n",
      "        [ 938.4000,    5.8000,   68.5000]])\n"
     ]
    }
   ],
   "source": [
    "image, label = train_set[0]\n",
    "print(image.shape)\n",
    "print(image[0])\n",
    "print(image[0].max())\n",
    "print(image[0].mean())\n",
    "print(label.shape)\n",
    "print(label)\n",
    "\n",
    "# for i in range(3):\n",
    "#     image, label = train_set[i]\n",
    "#     img = (image[2]/image[2].max())\n",
    "#     plt.imshow(img)\n",
    "#     plt.show()"
   ]
  },
  {
   "cell_type": "markdown",
   "metadata": {},
   "source": [
    "## The eRCNN Model"
   ]
  },
  {
   "cell_type": "code",
   "execution_count": 65,
   "metadata": {
    "pycharm": {
     "name": "#%%\n"
    }
   },
   "outputs": [],
   "source": [
    "import torch.nn as nn\n",
    "\n",
    "class eRCNN(nn.Module):\n",
    "    def __init__(self, input_size, hid_error_size, output_size):\n",
    "        super().__init__()\n",
    "\n",
    "        self.hid_error_size = hid_error_size\n",
    "\n",
    "        self.conv = nn.Conv2d(\n",
    "            in_channels=input_size,\n",
    "            out_channels=32,\n",
    "            kernel_size=(3, 3),\n",
    "            stride=1\n",
    "        )\n",
    "        self.lin_input = nn.Linear(12*35*32, 256)  # 32 (25*70) Feature maps after AvgPool2d(2)\n",
    "        self.lin_error = nn.Linear(hid_error_size, 32)\n",
    "        self.lin_out = nn.Linear(256 + 32, output_size)\n",
    "\n",
    "    def forward(self, input, error):\n",
    "        out_in = nn.ReLU()(self.conv(input))\n",
    "        out_in = nn.AvgPool2d(2)(out_in)  # Average Pooling with a square kernel_size=(2,2) and stride=kernel_size=(2,2)\n",
    "        out_in = out_in.view(-1, self.num_flat_features(out_in))\n",
    "        out_in = nn.ReLU()(self.lin_input(out_in))\n",
    "        out_err = nn.ReLU()(self.lin_error(error))\n",
    "        combined = torch.cat((out_in, out_err), 1)\n",
    "        output = self.lin_out(combined)\n",
    "\n",
    "        return output\n",
    "\n",
    "    def initError(self, batch_size):\n",
    "        return torch.zeros(batch_size, self.hid_error_size)\n",
    "\n",
    "    def num_flat_features(self, x):\n",
    "        size = x.size()[1:]  # all dimensions except the batch dimension\n",
    "        num_features = 1\n",
    "        for s in size:\n",
    "            num_features *= s\n",
    "        return num_features\n",
    "\n",
    "\n",
    "n_hidden = 6\n",
    "e_rcnn = eRCNN(3, n_hidden, 1)\n"
   ]
  },
  {
   "cell_type": "markdown",
   "metadata": {
    "pycharm": {
     "name": "#%% md\n"
    }
   },
   "source": [
    "## Training eRCNN"
   ]
  },
  {
   "cell_type": "code",
   "execution_count": 67,
   "metadata": {
    "pycharm": {
     "name": "#%%\n"
    }
   },
   "outputs": [
    {
     "name": "stderr",
     "output_type": "stream",
     "text": [
      "C:\\Users\\jose0\\anaconda3\\envs\\CUTMaC-CloudApps\\lib\\site-packages\\torch\\optim\\lr_scheduler.py:136: UserWarning: Detected call of `lr_scheduler.step()` before `optimizer.step()`. In PyTorch 1.1.0 and later, you should call them in the opposite order: `optimizer.step()` before `lr_scheduler.step()`.  Failure to do this will result in PyTorch skipping the first value of the learning rate schedule. See more details at https://pytorch.org/docs/stable/optim.html#how-to-adjust-learning-rate\n",
      "  \"https://pytorch.org/docs/stable/optim.html#how-to-adjust-learning-rate\", UserWarning)\n",
      "C:\\Users\\jose0\\anaconda3\\envs\\CUTMaC-CloudApps\\lib\\site-packages\\ipykernel_launcher.py:53: UserWarning: torch.nn.utils.clip_grad_norm is now deprecated in favor of torch.nn.utils.clip_grad_norm_.\n"
     ]
    },
    {
     "name": "stdout",
     "output_type": "stream",
     "text": [
      "BTT of Batch: 0\n",
      "Batch Index : 0 Loss : 223.763 Time : 10.150 seconds \n",
      "BTT of Batch: 1\n",
      "BTT of Batch: 2\n",
      "BTT of Batch: 3\n",
      "BTT of Batch: 4\n",
      "BTT of Batch: 5\n",
      "BTT of Batch: 6\n",
      "BTT of Batch: 7\n",
      "BTT of Batch: 8\n",
      "BTT of Batch: 9\n",
      "BTT of Batch: 10\n"
     ]
    },
    {
     "ename": "KeyboardInterrupt",
     "evalue": "",
     "output_type": "error",
     "traceback": [
      "\u001B[1;31m---------------------------------------------------------------------------\u001B[0m",
      "\u001B[1;31mKeyboardInterrupt\u001B[0m                         Traceback (most recent call last)",
      "\u001B[1;32m<ipython-input-67-afefb002c27e>\u001B[0m in \u001B[0;36m<module>\u001B[1;34m\u001B[0m\n\u001B[0;32m     40\u001B[0m         \u001B[0mloss\u001B[0m \u001B[1;33m=\u001B[0m \u001B[0mtorch\u001B[0m\u001B[1;33m.\u001B[0m\u001B[0mzeros\u001B[0m\u001B[1;33m(\u001B[0m\u001B[1;36m1\u001B[0m\u001B[1;33m,\u001B[0m \u001B[0mrequires_grad\u001B[0m\u001B[1;33m=\u001B[0m\u001B[1;32mTrue\u001B[0m\u001B[1;33m)\u001B[0m\u001B[1;33m\u001B[0m\u001B[1;33m\u001B[0m\u001B[0m\n\u001B[0;32m     41\u001B[0m         \u001B[1;32mfor\u001B[0m \u001B[0mi\u001B[0m \u001B[1;32min\u001B[0m \u001B[0mrange\u001B[0m\u001B[1;33m(\u001B[0m\u001B[0minputs\u001B[0m\u001B[1;33m.\u001B[0m\u001B[0mshape\u001B[0m\u001B[1;33m[\u001B[0m\u001B[1;36m0\u001B[0m\u001B[1;33m]\u001B[0m\u001B[1;33m)\u001B[0m\u001B[1;33m:\u001B[0m\u001B[1;33m\u001B[0m\u001B[1;33m\u001B[0m\u001B[0m\n\u001B[1;32m---> 42\u001B[1;33m             \u001B[0moutputs\u001B[0m \u001B[1;33m=\u001B[0m \u001B[0me_rcnn\u001B[0m\u001B[1;33m(\u001B[0m\u001B[0minputs\u001B[0m\u001B[1;33m[\u001B[0m\u001B[0mi\u001B[0m\u001B[1;33m]\u001B[0m\u001B[1;33m,\u001B[0m \u001B[0merror\u001B[0m\u001B[1;33m.\u001B[0m\u001B[0mdetach\u001B[0m\u001B[1;33m(\u001B[0m\u001B[1;33m)\u001B[0m\u001B[1;33m)\u001B[0m\u001B[1;33m\u001B[0m\u001B[1;33m\u001B[0m\u001B[0m\n\u001B[0m\u001B[0;32m     43\u001B[0m             \u001B[0merr_i\u001B[0m \u001B[1;33m=\u001B[0m \u001B[0moutputs\u001B[0m \u001B[1;33m-\u001B[0m \u001B[0mtargets\u001B[0m\u001B[1;33m[\u001B[0m\u001B[0mi\u001B[0m\u001B[1;33m]\u001B[0m\u001B[1;33m\u001B[0m\u001B[1;33m\u001B[0m\u001B[0m\n\u001B[0;32m     44\u001B[0m             \u001B[0merror\u001B[0m \u001B[1;33m=\u001B[0m \u001B[0mtorch\u001B[0m\u001B[1;33m.\u001B[0m\u001B[0mcat\u001B[0m\u001B[1;33m(\u001B[0m\u001B[1;33m(\u001B[0m\u001B[0merror\u001B[0m\u001B[1;33m[\u001B[0m\u001B[1;33m:\u001B[0m\u001B[1;33m,\u001B[0m\u001B[1;36m1\u001B[0m\u001B[1;33m:\u001B[0m\u001B[1;33m]\u001B[0m\u001B[1;33m,\u001B[0m \u001B[0merr_i\u001B[0m\u001B[1;33m)\u001B[0m\u001B[1;33m,\u001B[0m \u001B[1;36m1\u001B[0m\u001B[1;33m)\u001B[0m\u001B[1;33m\u001B[0m\u001B[1;33m\u001B[0m\u001B[0m\n",
      "\u001B[1;32m~\\anaconda3\\envs\\CUTMaC-CloudApps\\lib\\site-packages\\torch\\nn\\modules\\module.py\u001B[0m in \u001B[0;36m_call_impl\u001B[1;34m(self, *input, **kwargs)\u001B[0m\n\u001B[0;32m    725\u001B[0m             \u001B[0mresult\u001B[0m \u001B[1;33m=\u001B[0m \u001B[0mself\u001B[0m\u001B[1;33m.\u001B[0m\u001B[0m_slow_forward\u001B[0m\u001B[1;33m(\u001B[0m\u001B[1;33m*\u001B[0m\u001B[0minput\u001B[0m\u001B[1;33m,\u001B[0m \u001B[1;33m**\u001B[0m\u001B[0mkwargs\u001B[0m\u001B[1;33m)\u001B[0m\u001B[1;33m\u001B[0m\u001B[1;33m\u001B[0m\u001B[0m\n\u001B[0;32m    726\u001B[0m         \u001B[1;32melse\u001B[0m\u001B[1;33m:\u001B[0m\u001B[1;33m\u001B[0m\u001B[1;33m\u001B[0m\u001B[0m\n\u001B[1;32m--> 727\u001B[1;33m             \u001B[0mresult\u001B[0m \u001B[1;33m=\u001B[0m \u001B[0mself\u001B[0m\u001B[1;33m.\u001B[0m\u001B[0mforward\u001B[0m\u001B[1;33m(\u001B[0m\u001B[1;33m*\u001B[0m\u001B[0minput\u001B[0m\u001B[1;33m,\u001B[0m \u001B[1;33m**\u001B[0m\u001B[0mkwargs\u001B[0m\u001B[1;33m)\u001B[0m\u001B[1;33m\u001B[0m\u001B[1;33m\u001B[0m\u001B[0m\n\u001B[0m\u001B[0;32m    728\u001B[0m         for hook in itertools.chain(\n\u001B[0;32m    729\u001B[0m                 \u001B[0m_global_forward_hooks\u001B[0m\u001B[1;33m.\u001B[0m\u001B[0mvalues\u001B[0m\u001B[1;33m(\u001B[0m\u001B[1;33m)\u001B[0m\u001B[1;33m,\u001B[0m\u001B[1;33m\u001B[0m\u001B[1;33m\u001B[0m\u001B[0m\n",
      "\u001B[1;32m<ipython-input-65-4d41608d3653>\u001B[0m in \u001B[0;36mforward\u001B[1;34m(self, input, error)\u001B[0m\n\u001B[0;32m     21\u001B[0m         \u001B[0mout_in\u001B[0m \u001B[1;33m=\u001B[0m \u001B[0mnn\u001B[0m\u001B[1;33m.\u001B[0m\u001B[0mAvgPool2d\u001B[0m\u001B[1;33m(\u001B[0m\u001B[1;36m2\u001B[0m\u001B[1;33m)\u001B[0m\u001B[1;33m(\u001B[0m\u001B[0mout_in\u001B[0m\u001B[1;33m)\u001B[0m  \u001B[1;31m# Average Pooling with a square kernel_size=(2,2) and stride=kernel_size=(2,2)\u001B[0m\u001B[1;33m\u001B[0m\u001B[1;33m\u001B[0m\u001B[0m\n\u001B[0;32m     22\u001B[0m         \u001B[0mout_in\u001B[0m \u001B[1;33m=\u001B[0m \u001B[0mout_in\u001B[0m\u001B[1;33m.\u001B[0m\u001B[0mview\u001B[0m\u001B[1;33m(\u001B[0m\u001B[1;33m-\u001B[0m\u001B[1;36m1\u001B[0m\u001B[1;33m,\u001B[0m \u001B[0mself\u001B[0m\u001B[1;33m.\u001B[0m\u001B[0mnum_flat_features\u001B[0m\u001B[1;33m(\u001B[0m\u001B[0mout_in\u001B[0m\u001B[1;33m)\u001B[0m\u001B[1;33m)\u001B[0m\u001B[1;33m\u001B[0m\u001B[1;33m\u001B[0m\u001B[0m\n\u001B[1;32m---> 23\u001B[1;33m         \u001B[0mout_in\u001B[0m \u001B[1;33m=\u001B[0m \u001B[0mnn\u001B[0m\u001B[1;33m.\u001B[0m\u001B[0mReLU\u001B[0m\u001B[1;33m(\u001B[0m\u001B[1;33m)\u001B[0m\u001B[1;33m(\u001B[0m\u001B[0mself\u001B[0m\u001B[1;33m.\u001B[0m\u001B[0mlin_input\u001B[0m\u001B[1;33m(\u001B[0m\u001B[0mout_in\u001B[0m\u001B[1;33m)\u001B[0m\u001B[1;33m)\u001B[0m\u001B[1;33m\u001B[0m\u001B[1;33m\u001B[0m\u001B[0m\n\u001B[0m\u001B[0;32m     24\u001B[0m         \u001B[0mout_err\u001B[0m \u001B[1;33m=\u001B[0m \u001B[0mnn\u001B[0m\u001B[1;33m.\u001B[0m\u001B[0mReLU\u001B[0m\u001B[1;33m(\u001B[0m\u001B[1;33m)\u001B[0m\u001B[1;33m(\u001B[0m\u001B[0mself\u001B[0m\u001B[1;33m.\u001B[0m\u001B[0mlin_error\u001B[0m\u001B[1;33m(\u001B[0m\u001B[0merror\u001B[0m\u001B[1;33m)\u001B[0m\u001B[1;33m)\u001B[0m\u001B[1;33m\u001B[0m\u001B[1;33m\u001B[0m\u001B[0m\n\u001B[0;32m     25\u001B[0m         \u001B[0mcombined\u001B[0m \u001B[1;33m=\u001B[0m \u001B[0mtorch\u001B[0m\u001B[1;33m.\u001B[0m\u001B[0mcat\u001B[0m\u001B[1;33m(\u001B[0m\u001B[1;33m(\u001B[0m\u001B[0mout_in\u001B[0m\u001B[1;33m,\u001B[0m \u001B[0mout_err\u001B[0m\u001B[1;33m)\u001B[0m\u001B[1;33m,\u001B[0m \u001B[1;36m1\u001B[0m\u001B[1;33m)\u001B[0m\u001B[1;33m\u001B[0m\u001B[1;33m\u001B[0m\u001B[0m\n",
      "\u001B[1;32m~\\anaconda3\\envs\\CUTMaC-CloudApps\\lib\\site-packages\\torch\\nn\\modules\\module.py\u001B[0m in \u001B[0;36m_call_impl\u001B[1;34m(self, *input, **kwargs)\u001B[0m\n\u001B[0;32m    725\u001B[0m             \u001B[0mresult\u001B[0m \u001B[1;33m=\u001B[0m \u001B[0mself\u001B[0m\u001B[1;33m.\u001B[0m\u001B[0m_slow_forward\u001B[0m\u001B[1;33m(\u001B[0m\u001B[1;33m*\u001B[0m\u001B[0minput\u001B[0m\u001B[1;33m,\u001B[0m \u001B[1;33m**\u001B[0m\u001B[0mkwargs\u001B[0m\u001B[1;33m)\u001B[0m\u001B[1;33m\u001B[0m\u001B[1;33m\u001B[0m\u001B[0m\n\u001B[0;32m    726\u001B[0m         \u001B[1;32melse\u001B[0m\u001B[1;33m:\u001B[0m\u001B[1;33m\u001B[0m\u001B[1;33m\u001B[0m\u001B[0m\n\u001B[1;32m--> 727\u001B[1;33m             \u001B[0mresult\u001B[0m \u001B[1;33m=\u001B[0m \u001B[0mself\u001B[0m\u001B[1;33m.\u001B[0m\u001B[0mforward\u001B[0m\u001B[1;33m(\u001B[0m\u001B[1;33m*\u001B[0m\u001B[0minput\u001B[0m\u001B[1;33m,\u001B[0m \u001B[1;33m**\u001B[0m\u001B[0mkwargs\u001B[0m\u001B[1;33m)\u001B[0m\u001B[1;33m\u001B[0m\u001B[1;33m\u001B[0m\u001B[0m\n\u001B[0m\u001B[0;32m    728\u001B[0m         for hook in itertools.chain(\n\u001B[0;32m    729\u001B[0m                 \u001B[0m_global_forward_hooks\u001B[0m\u001B[1;33m.\u001B[0m\u001B[0mvalues\u001B[0m\u001B[1;33m(\u001B[0m\u001B[1;33m)\u001B[0m\u001B[1;33m,\u001B[0m\u001B[1;33m\u001B[0m\u001B[1;33m\u001B[0m\u001B[0m\n",
      "\u001B[1;32m~\\anaconda3\\envs\\CUTMaC-CloudApps\\lib\\site-packages\\torch\\nn\\modules\\linear.py\u001B[0m in \u001B[0;36mforward\u001B[1;34m(self, input)\u001B[0m\n\u001B[0;32m     91\u001B[0m \u001B[1;33m\u001B[0m\u001B[0m\n\u001B[0;32m     92\u001B[0m     \u001B[1;32mdef\u001B[0m \u001B[0mforward\u001B[0m\u001B[1;33m(\u001B[0m\u001B[0mself\u001B[0m\u001B[1;33m,\u001B[0m \u001B[0minput\u001B[0m\u001B[1;33m:\u001B[0m \u001B[0mTensor\u001B[0m\u001B[1;33m)\u001B[0m \u001B[1;33m->\u001B[0m \u001B[0mTensor\u001B[0m\u001B[1;33m:\u001B[0m\u001B[1;33m\u001B[0m\u001B[1;33m\u001B[0m\u001B[0m\n\u001B[1;32m---> 93\u001B[1;33m         \u001B[1;32mreturn\u001B[0m \u001B[0mF\u001B[0m\u001B[1;33m.\u001B[0m\u001B[0mlinear\u001B[0m\u001B[1;33m(\u001B[0m\u001B[0minput\u001B[0m\u001B[1;33m,\u001B[0m \u001B[0mself\u001B[0m\u001B[1;33m.\u001B[0m\u001B[0mweight\u001B[0m\u001B[1;33m,\u001B[0m \u001B[0mself\u001B[0m\u001B[1;33m.\u001B[0m\u001B[0mbias\u001B[0m\u001B[1;33m)\u001B[0m\u001B[1;33m\u001B[0m\u001B[1;33m\u001B[0m\u001B[0m\n\u001B[0m\u001B[0;32m     94\u001B[0m \u001B[1;33m\u001B[0m\u001B[0m\n\u001B[0;32m     95\u001B[0m     \u001B[1;32mdef\u001B[0m \u001B[0mextra_repr\u001B[0m\u001B[1;33m(\u001B[0m\u001B[0mself\u001B[0m\u001B[1;33m)\u001B[0m \u001B[1;33m->\u001B[0m \u001B[0mstr\u001B[0m\u001B[1;33m:\u001B[0m\u001B[1;33m\u001B[0m\u001B[1;33m\u001B[0m\u001B[0m\n",
      "\u001B[1;32m~\\anaconda3\\envs\\CUTMaC-CloudApps\\lib\\site-packages\\torch\\nn\\functional.py\u001B[0m in \u001B[0;36mlinear\u001B[1;34m(input, weight, bias)\u001B[0m\n\u001B[0;32m   1688\u001B[0m     \u001B[1;32mif\u001B[0m \u001B[0minput\u001B[0m\u001B[1;33m.\u001B[0m\u001B[0mdim\u001B[0m\u001B[1;33m(\u001B[0m\u001B[1;33m)\u001B[0m \u001B[1;33m==\u001B[0m \u001B[1;36m2\u001B[0m \u001B[1;32mand\u001B[0m \u001B[0mbias\u001B[0m \u001B[1;32mis\u001B[0m \u001B[1;32mnot\u001B[0m \u001B[1;32mNone\u001B[0m\u001B[1;33m:\u001B[0m\u001B[1;33m\u001B[0m\u001B[1;33m\u001B[0m\u001B[0m\n\u001B[0;32m   1689\u001B[0m         \u001B[1;31m# fused op is marginally faster\u001B[0m\u001B[1;33m\u001B[0m\u001B[1;33m\u001B[0m\u001B[1;33m\u001B[0m\u001B[0m\n\u001B[1;32m-> 1690\u001B[1;33m         \u001B[0mret\u001B[0m \u001B[1;33m=\u001B[0m \u001B[0mtorch\u001B[0m\u001B[1;33m.\u001B[0m\u001B[0maddmm\u001B[0m\u001B[1;33m(\u001B[0m\u001B[0mbias\u001B[0m\u001B[1;33m,\u001B[0m \u001B[0minput\u001B[0m\u001B[1;33m,\u001B[0m \u001B[0mweight\u001B[0m\u001B[1;33m.\u001B[0m\u001B[0mt\u001B[0m\u001B[1;33m(\u001B[0m\u001B[1;33m)\u001B[0m\u001B[1;33m)\u001B[0m\u001B[1;33m\u001B[0m\u001B[1;33m\u001B[0m\u001B[0m\n\u001B[0m\u001B[0;32m   1691\u001B[0m     \u001B[1;32melse\u001B[0m\u001B[1;33m:\u001B[0m\u001B[1;33m\u001B[0m\u001B[1;33m\u001B[0m\u001B[0m\n\u001B[0;32m   1692\u001B[0m         \u001B[0moutput\u001B[0m \u001B[1;33m=\u001B[0m \u001B[0minput\u001B[0m\u001B[1;33m.\u001B[0m\u001B[0mmatmul\u001B[0m\u001B[1;33m(\u001B[0m\u001B[0mweight\u001B[0m\u001B[1;33m.\u001B[0m\u001B[0mt\u001B[0m\u001B[1;33m(\u001B[0m\u001B[1;33m)\u001B[0m\u001B[1;33m)\u001B[0m\u001B[1;33m\u001B[0m\u001B[1;33m\u001B[0m\u001B[0m\n",
      "\u001B[1;31mKeyboardInterrupt\u001B[0m: "
     ]
    }
   ],
   "source": [
    "from torch import optim\n",
    "import time\n",
    "# Define Dataloader\n",
    "batch_size = 50\n",
    "train_loader = torch.utils.data.DataLoader(train_set, batch_size=batch_size, shuffle=True)\n",
    "test_loader = torch.utils.data.DataLoader(test_set, batch_size=batch_size, shuffle=True)\n",
    "\n",
    "device = torch.device(\"cuda:0\" if torch.cuda.is_available() else \"cpu\")     #Check whether a GPU is present.\n",
    "\n",
    "e_rcnn.to(device)   #Put the network on GPU if present\n",
    "\n",
    "criterion = nn.MSELoss() # L2 Norm\n",
    "optimizer = optim.Adam(e_rcnn.parameters(), lr=1e-3) # ADAM with lr=10^-4\n",
    "scheduler = torch.optim.lr_scheduler.ExponentialLR(optimizer, gamma=0.1) # exponential decay every epoch = 2000iter\n",
    "\n",
    "\n",
    "for epoch in range(10): #10 epochs\n",
    "    torch.autograd.set_detect_anomaly(True)\n",
    "    losses = []\n",
    "    scheduler.step()\n",
    "    # Train\n",
    "    start = time.time()\n",
    "    for batch_idx, (inputs, targets) in enumerate(train_loader):\n",
    "        inputs = inputs.permute(1, 0, 2, 3, 4)\n",
    "        targets = targets.permute(1,0,2)\n",
    "        #print(targets.shape)\n",
    "        targets=targets[:,:,2]\n",
    "        targets = torch.unsqueeze(targets, 2)\n",
    "        #print(targets.shape)\n",
    "        inputs, targets = inputs.to(device), targets.to(device)\n",
    "\n",
    "        optimizer.zero_grad()                 # Zero the gradients\n",
    "\n",
    "        error = e_rcnn.initError(batch_size)\n",
    "        # print(inputs.shape)\n",
    "        # print(inputs[i].shape)\n",
    "        # print(targets.shape)\n",
    "        # print(error.shape)\n",
    "        # e_rcnn.zero_grad()\n",
    "        loss = torch.zeros(1, requires_grad=True)\n",
    "        for i in range(inputs.shape[0]):\n",
    "            outputs = e_rcnn(inputs[i], error.detach())\n",
    "            err_i = outputs - targets[i]\n",
    "            error = torch.cat((error[:,1:], err_i), 1)\n",
    "            #loss = loss + criterion(outputs, targets[i])  # Loss function Option 2\n",
    "\n",
    "        #loss = criterion(outputs, targets[-1])    # Compute the Loss\n",
    "        #loss /= inputs.shape[0]\n",
    "        loss = criterion(outputs, targets[i])\n",
    "        loss.backward()\n",
    "        #print(f\"BTT of Batch: {batch_idx}\")# Compute the Gradients\n",
    "\n",
    "        nn.utils.clip_grad_norm(e_rcnn.parameters(), 40) # gradient cliping norm for ercnn\n",
    "        optimizer.step()                      # Updated the weights\n",
    "        losses.append(loss.item())\n",
    "        end = time.time()\n",
    "\n",
    "        if batch_idx % 100 == 0:\n",
    "            print('Batch Index : %d Loss : %.3f Time : %.3f seconds ' % (batch_idx, np.mean(losses), end - start))\n",
    "            start = time.time()\n",
    "\n",
    "    # Evaluate\n",
    "    e_rcnn.eval()\n",
    "    total = 0\n",
    "    losses_test = []\n",
    "    with torch.no_grad():\n",
    "        for batch_idx, (inputs, targets) in enumerate(test_loader):\n",
    "            inputs = inputs.permute(1, 0, 2, 3, 4)\n",
    "            targets = targets.permute(1,0,2)\n",
    "            targets=targets[:,:,2]\n",
    "            targets = torch.unsqueeze(targets, 2)\n",
    "            inputs, targets = inputs.to(device), targets.to(device)\n",
    "\n",
    "            error = e_rcnn.initError(batch_size)\n",
    "            for i in range(inputs.shape[0]):\n",
    "                outputs = e_rcnn(inputs[i], error.detach())\n",
    "                err_i = outputs - targets[i]\n",
    "                error = torch.cat((error[:,1:], err_i), 1)\n",
    "\n",
    "            loss = criterion(outputs, targets[i])\n",
    "            losses_test.append(loss.item())\n",
    "            if batch_idx % 100 == 0:\n",
    "                print('Batch Index : %d Loss : %.3f' % (batch_idx, np.mean(losses_test)))\n",
    "\n",
    "    print('--------------------------------------------------------------')\n",
    "    e_rcnn.train()"
   ]
  },
  {
   "cell_type": "raw",
   "source": [],
   "metadata": {
    "collapsed": false
   }
  }
 ],
 "metadata": {
  "kernelspec": {
   "display_name": "Python 3",
   "language": "python",
   "name": "python3"
  },
  "language_info": {
   "codemirror_mode": {
    "name": "ipython",
    "version": 3
   },
   "file_extension": ".py",
   "mimetype": "text/x-python",
   "name": "python",
   "nbconvert_exporter": "python",
   "pygments_lexer": "ipython3",
   "version": "3.7.8"
  }
 },
 "nbformat": 4,
 "nbformat_minor": 1
}