{
 "cells": [
  {
   "cell_type": "markdown",
   "metadata": {},
   "source": [
    "# Analisis de Datos de la I15 "
   ]
  },
  {
   "cell_type": "code",
   "execution_count": 1,
   "metadata": {
    "pycharm": {
     "name": "#%%  Imports\n"
    }
   },
   "outputs": [],
   "source": [
    "import pandas as pd\n",
    "import numpy as np\n",
    "pd.set_option(\"precision\", 3)"
   ]
  },
  {
   "cell_type": "markdown",
   "metadata": {},
   "source": [
    "## Carga de la data. \n",
    "La base de datos SQL posee datos del 01-01-2018 al 31-12-2019 de todos los sensores (a excepción de algunos parecen no estar funcionando) que aparecen en la plataforma Bugatti FAST. De esta base de datos se exportó un dataset con los datos de los sensores pertenecientes a la I15_NB (I15 dirección norte). El dataset \"lean\" es el mismo dataset exportado eliminando las columnas de datos que no utilizo (Vease los drops que se encuentran comentados). Existen dos valores denominados \"Invalid\" -> [0, 1, 2, 3] y \"Failure\" -> [0 - 448] que aún no sé como utilizar porque no sé qué significan sus valores."
   ]
  },
  {
   "cell_type": "markdown",
   "metadata": {
    "pycharm": {
     "name": "#%% md\n"
    }
   },
   "source": [
    "## Data loading \n",
    "The SQL database has data from 01-01-2018 to 31-12-2019 of all the sensors that appear in the Bugatti FAST dashboard (except for some that seem not to be working). From this database a dataset was exported with data from sensors belonging to the I15_NB (I15 northbound). The \"lean\" dataset is the same dataset exported, but eliminating the columns of data that I do not use (see commented \"drops\"). There are two values named \"Invalid\" -> [0, 1, 2, 3] and \"Failure\" -> [0 - 448] that I still don't know how to use because I don't know what their values mean."
   ]
  },
  {
   "cell_type": "code",
   "execution_count": 2,
   "metadata": {
    "pycharm": {
     "name": "#%%   Data Load\n"
    }
   },
   "outputs": [
    {
     "data": {
      "text/html": [
       "<div>\n",
       "<style scoped>\n",
       "    .dataframe tbody tr th:only-of-type {\n",
       "        vertical-align: middle;\n",
       "    }\n",
       "\n",
       "    .dataframe tbody tr th {\n",
       "        vertical-align: top;\n",
       "    }\n",
       "\n",
       "    .dataframe thead th {\n",
       "        text-align: right;\n",
       "    }\n",
       "</style>\n",
       "<table border=\"1\" class=\"dataframe\">\n",
       "  <thead>\n",
       "    <tr style=\"text-align: right;\">\n",
       "      <th></th>\n",
       "      <th>DateTimeStamp</th>\n",
       "      <th>Lane</th>\n",
       "      <th>Volume</th>\n",
       "      <th>Occupancy</th>\n",
       "      <th>Speed</th>\n",
       "      <th>Poll_Count</th>\n",
       "      <th>Failure</th>\n",
       "      <th>Invalid</th>\n",
       "      <th>DetectorID</th>\n",
       "    </tr>\n",
       "  </thead>\n",
       "  <tbody>\n",
       "    <tr>\n",
       "      <th>0</th>\n",
       "      <td>2018-01-01 02:58:57</td>\n",
       "      <td>1</td>\n",
       "      <td>79</td>\n",
       "      <td>1</td>\n",
       "      <td>71</td>\n",
       "      <td>15</td>\n",
       "      <td>0</td>\n",
       "      <td>0</td>\n",
       "      <td>110.1.41</td>\n",
       "    </tr>\n",
       "    <tr>\n",
       "      <th>1</th>\n",
       "      <td>2018-01-01 02:58:57</td>\n",
       "      <td>2</td>\n",
       "      <td>197</td>\n",
       "      <td>5</td>\n",
       "      <td>72</td>\n",
       "      <td>15</td>\n",
       "      <td>0</td>\n",
       "      <td>0</td>\n",
       "      <td>110.1.41</td>\n",
       "    </tr>\n",
       "    <tr>\n",
       "      <th>2</th>\n",
       "      <td>2018-01-01 02:58:57</td>\n",
       "      <td>3</td>\n",
       "      <td>452</td>\n",
       "      <td>12</td>\n",
       "      <td>68</td>\n",
       "      <td>15</td>\n",
       "      <td>0</td>\n",
       "      <td>0</td>\n",
       "      <td>110.1.41</td>\n",
       "    </tr>\n",
       "    <tr>\n",
       "      <th>3</th>\n",
       "      <td>2018-01-01 02:58:57</td>\n",
       "      <td>4</td>\n",
       "      <td>416</td>\n",
       "      <td>11</td>\n",
       "      <td>65</td>\n",
       "      <td>15</td>\n",
       "      <td>0</td>\n",
       "      <td>0</td>\n",
       "      <td>110.1.41</td>\n",
       "    </tr>\n",
       "    <tr>\n",
       "      <th>4</th>\n",
       "      <td>2018-01-01 02:58:57</td>\n",
       "      <td>5</td>\n",
       "      <td>20</td>\n",
       "      <td>0</td>\n",
       "      <td>53</td>\n",
       "      <td>15</td>\n",
       "      <td>0</td>\n",
       "      <td>0</td>\n",
       "      <td>110.1.41</td>\n",
       "    </tr>\n",
       "    <tr>\n",
       "      <th>5</th>\n",
       "      <td>2018-01-01 02:58:57</td>\n",
       "      <td>2</td>\n",
       "      <td>21</td>\n",
       "      <td>0</td>\n",
       "      <td>77</td>\n",
       "      <td>15</td>\n",
       "      <td>0</td>\n",
       "      <td>0</td>\n",
       "      <td>438.1.331</td>\n",
       "    </tr>\n",
       "    <tr>\n",
       "      <th>6</th>\n",
       "      <td>2018-01-01 02:58:57</td>\n",
       "      <td>3</td>\n",
       "      <td>9</td>\n",
       "      <td>0</td>\n",
       "      <td>76</td>\n",
       "      <td>15</td>\n",
       "      <td>0</td>\n",
       "      <td>0</td>\n",
       "      <td>438.1.331</td>\n",
       "    </tr>\n",
       "    <tr>\n",
       "      <th>7</th>\n",
       "      <td>2018-01-01 02:58:57</td>\n",
       "      <td>1</td>\n",
       "      <td>38</td>\n",
       "      <td>0</td>\n",
       "      <td>75</td>\n",
       "      <td>15</td>\n",
       "      <td>0</td>\n",
       "      <td>0</td>\n",
       "      <td>439.2.333</td>\n",
       "    </tr>\n",
       "    <tr>\n",
       "      <th>8</th>\n",
       "      <td>2018-01-01 02:58:57</td>\n",
       "      <td>2</td>\n",
       "      <td>80</td>\n",
       "      <td>1</td>\n",
       "      <td>53</td>\n",
       "      <td>15</td>\n",
       "      <td>0</td>\n",
       "      <td>0</td>\n",
       "      <td>439.2.333</td>\n",
       "    </tr>\n",
       "    <tr>\n",
       "      <th>9</th>\n",
       "      <td>2018-01-01 02:58:57</td>\n",
       "      <td>3</td>\n",
       "      <td>5</td>\n",
       "      <td>0</td>\n",
       "      <td>56</td>\n",
       "      <td>15</td>\n",
       "      <td>0</td>\n",
       "      <td>0</td>\n",
       "      <td>439.2.333</td>\n",
       "    </tr>\n",
       "  </tbody>\n",
       "</table>\n",
       "</div>"
      ],
      "text/plain": [
       "         DateTimeStamp  Lane  Volume  Occupancy  Speed  Poll_Count  Failure  \\\n",
       "0  2018-01-01 02:58:57     1      79          1     71          15        0   \n",
       "1  2018-01-01 02:58:57     2     197          5     72          15        0   \n",
       "2  2018-01-01 02:58:57     3     452         12     68          15        0   \n",
       "3  2018-01-01 02:58:57     4     416         11     65          15        0   \n",
       "4  2018-01-01 02:58:57     5      20          0     53          15        0   \n",
       "5  2018-01-01 02:58:57     2      21          0     77          15        0   \n",
       "6  2018-01-01 02:58:57     3       9          0     76          15        0   \n",
       "7  2018-01-01 02:58:57     1      38          0     75          15        0   \n",
       "8  2018-01-01 02:58:57     2      80          1     53          15        0   \n",
       "9  2018-01-01 02:58:57     3       5          0     56          15        0   \n",
       "\n",
       "   Invalid DetectorID  \n",
       "0        0   110.1.41  \n",
       "1        0   110.1.41  \n",
       "2        0   110.1.41  \n",
       "3        0   110.1.41  \n",
       "4        0   110.1.41  \n",
       "5        0  438.1.331  \n",
       "6        0  438.1.331  \n",
       "7        0  439.2.333  \n",
       "8        0  439.2.333  \n",
       "9        0  439.2.333  "
      ]
     },
     "execution_count": 2,
     "metadata": {},
     "output_type": "execute_result"
    }
   ],
   "source": [
    "data_file_name = \"datasets/la_vegas/i15_bugatti/bugatti_nb_data_lean.csv\"\n",
    "#data_file_name = \"datasets/la_vegas/i15_bugatti/bugatti_nb_data.csv\"\n",
    "\n",
    "data = pd.read_csv(data_file_name)\n",
    "# data = data.drop(columns=['Path', 'RoadIndex', 'RoadwayID', 'SegmentID', 'DeviceID',\n",
    "#                           #'Volume1', 'Volume2', 'Volume3', 'Volume4', 'Volume5', 'Volume6',\n",
    "#                           'RoadType', 'Location', 'Polling_Period', 'DayOfWeek',\n",
    "#                           'DateValue', 'HourIdx', 'Holiday'])\n",
    "# data.to_csv('bugatti_data_lean.csv', index=False)\n",
    "\n",
    "data.head(10)"
   ]
  },
  {
   "cell_type": "markdown",
   "metadata": {
    "pycharm": {
     "name": "#%% md\n"
    }
   },
   "source": [
    "Se realiza un mapeo de los ID de los detectores a una serie de números del \"0\" a \"N - 1\" (N= cantidad de detectores = 57). Dicha serie está ordenada según la ubicación de los detectores en la autopista, siendo \"0\" el detector que se encuentra más al Sur y \"N-1\" el que se encuentra más al Norte."
   ]
  },
  {
   "cell_type": "markdown",
   "metadata": {},
   "source": [
    "The detector IDs are mapped to a series of numbers from \"0\" to \"N - 1\" (N= number of detectors = 57). This series is ordered according to the location of the detectors on the highway, with \"0\" being the southernmost detector and \"N-1\" being the northernmost."
   ]
  },
  {
   "cell_type": "code",
   "execution_count": 3,
   "metadata": {
    "pycharm": {
     "name": "#%%\n"
    }
   },
   "outputs": [
    {
     "name": "stdout",
     "output_type": "stream",
     "text": [
      "57\n",
      "0          38\n",
      "1          38\n",
      "2          38\n",
      "3          38\n",
      "4          38\n",
      "           ..\n",
      "9578979     5\n",
      "9578980     5\n",
      "9578981     2\n",
      "9578982     2\n",
      "9578983     2\n",
      "Length: 9578984, dtype: int64\n"
     ]
    }
   ],
   "source": [
    "detectors_nb_list = ['440.1.335',\n",
    "  '439.2.333',\n",
    "  '439.3.332',\n",
    "  '438.1.331',\n",
    "  '438.2.330',\n",
    "  '438.3.329',\n",
    "  '358.1.325',\n",
    "  '358.3.319',\n",
    "  '357.1.312',\n",
    "  '357.3.310',\n",
    "  '356.1.309',\n",
    "  '356.2.308',\n",
    "  '355.1.156',\n",
    "  '355.2.153',\n",
    "  '355.3.155',\n",
    "  '354.1.79',\n",
    "  '354.2.144',\n",
    "  '354.3.145',\n",
    "  '32.1.142',\n",
    "  '34.1.94',\n",
    "  '39.2.88',\n",
    "  '48.2.83',\n",
    "  '49.1.82',\n",
    "  '49.2.12',\n",
    "  '49.3.15',\n",
    "  '58.2.17',\n",
    "  '59.1.18',\n",
    "  '59.2.18',\n",
    "  '70.2.21',\n",
    "  '71.2.23',\n",
    "  '72.1.22',\n",
    "  '72.2.28',\n",
    "  '89.1.28',\n",
    "  '89.2.30',\n",
    "  '97.1.33',\n",
    "  '97.2.33',\n",
    "  '97.3.38',\n",
    "  '99.1.35',\n",
    "  '110.1.41',\n",
    "  '112.2.44',\n",
    "  '113.2.45',\n",
    "  '122.2.48',\n",
    "  '124.2.49',\n",
    "  '137.1.80',\n",
    "  '138.1.53',\n",
    "  '138.2.55',\n",
    "  '146.2.238',\n",
    "  '148.2.58',\n",
    "  '149.2.240',\n",
    "  '160.2.242',\n",
    "  '396.1.243',\n",
    "  '396.2.246',\n",
    "  '396.3.246',\n",
    "  '397.1.247',\n",
    "  '397.2.248',\n",
    "  '398.1.249',\n",
    "  '398.2.251']\n",
    "print(len(detectors_nb_list))\n",
    "detector_id_map = {}\n",
    "for i in range(len(detectors_nb_list)):\n",
    "    detector_id_map[detectors_nb_list[i]] = i\n",
    "\n",
    "data_detect_ID = data['DetectorID']\n",
    "\n",
    "data_detect_new_ID = pd.Series([detector_id_map[i] for i in data_detect_ID])\n",
    "print(data_detect_new_ID)\n",
    "data['DetectID'] = data_detect_new_ID"
   ]
  },
  {
   "cell_type": "markdown",
   "metadata": {},
   "source": [
    "Se trasforma la columna 'DateTimeStamp' de string a un formato pd.datetime64 para poder ordenar los datos de forma cronológica y para poder analizar los períodos de muestreo."
   ]
  },
  {
   "cell_type": "markdown",
   "metadata": {
    "pycharm": {
     "name": "#%% md\n"
    }
   },
   "source": [
    "The column 'DateTimeStamp' is transformed from string to a pd.datetime64 format to be able to sort the data chronologically and to be able to analyze the sampling periods."
   ]
  },
  {
   "cell_type": "code",
   "execution_count": 4,
   "metadata": {
    "pycharm": {
     "name": "#%%  Convertir columna 'DateTimeStamp' a pd.dateTime64 object y sortearlo ascendentemente\n"
    }
   },
   "outputs": [
    {
     "name": "stdout",
     "output_type": "stream",
     "text": [
      "Date: 2018-01-01\n",
      "Time: 00:12:14\n",
      "Minute: 12\n",
      "Date-time: 2018-01-01 00:12:14\n",
      "['2018-01-01T00:12:14.000000000' '2018-01-01T00:27:23.000000000'\n",
      " '2018-01-01T00:42:32.000000000' ... '2019-12-31T22:57:48.000000000'\n",
      " '2019-12-31T23:37:46.000000000' '2019-12-31T23:53:19.000000000']\n",
      "63092\n"
     ]
    }
   ],
   "source": [
    "data['DateTimeStamp'] = pd.to_datetime(data['DateTimeStamp'])\n",
    "data = data.sort_values(by=['DateTimeStamp','DetectID'],ascending=[True, True])\n",
    "\n",
    "date_time_obj = data['DateTimeStamp'].iloc[0]\n",
    "print('Date:', date_time_obj.date())\n",
    "print('Time:', date_time_obj.time())\n",
    "print('Minute:', date_time_obj.time().minute)\n",
    "print('Date-time:', date_time_obj)\n",
    "\n",
    "print(data['DateTimeStamp'].unique())\n",
    "print(len(data['DateTimeStamp'].unique()))"
   ]
  },
  {
   "cell_type": "markdown",
   "metadata": {},
   "source": [
    "Se realiza un análisis de los tiempos de muestreo."
   ]
  },
  {
   "cell_type": "markdown",
   "metadata": {
    "pycharm": {
     "name": "#%% md\n"
    }
   },
   "source": [
    "An analysis of sampling times is performed."
   ]
  },
  {
   "cell_type": "code",
   "execution_count": 5,
   "metadata": {
    "pycharm": {
     "name": "#%%  Revisar cuantos muetreos son diferentes a 15min\n"
    }
   },
   "outputs": [
    {
     "name": "stdout",
     "output_type": "stream",
     "text": [
      "\n",
      "Total DateTimes = 63092 vs Total DateTimes in 2 years with a period of 15 min = 70080.0 --> DateLoss = 9.971461187214615\n",
      "Periods other than 15 min = 38470\n",
      "\n",
      "Very high periods (2h a 2 días) = 21\n",
      "[[Timestamp('2018-03-12 04:27:03'), Timestamp('2018-03-11 19:21:52')], [Timestamp('2018-03-19 05:03:36'), Timestamp('2018-03-18 23:15:16')], [Timestamp('2018-05-06 00:40:02'), Timestamp('2018-05-05 20:40:13')], [Timestamp('2018-05-10 07:46:46'), Timestamp('2018-05-08 22:17:57')], [Timestamp('2018-06-20 09:19:04'), Timestamp('2018-06-19 23:35:54')], [Timestamp('2019-02-16 16:36:11'), Timestamp('2019-02-15 22:58:57')], [Timestamp('2019-03-05 00:20:12'), Timestamp('2019-03-04 22:45:06')], [Timestamp('2019-03-21 07:58:58'), Timestamp('2019-03-20 22:57:41')], [Timestamp('2019-04-04 05:48:12'), Timestamp('2019-04-03 22:57:59')], [Timestamp('2019-04-15 06:05:32'), Timestamp('2019-04-14 22:57:04')], [Timestamp('2019-05-03 08:45:10'), Timestamp('2019-05-02 22:57:14')], [Timestamp('2019-05-15 05:31:00'), Timestamp('2019-05-14 22:57:19')], [Timestamp('2019-06-06 05:50:39'), Timestamp('2019-06-05 22:58:15')], [Timestamp('2019-06-30 20:13:03'), Timestamp('2019-06-29 22:55:25')], [Timestamp('2019-08-06 05:38:39'), Timestamp('2019-08-05 22:55:26')], [Timestamp('2019-08-23 12:30:50'), Timestamp('2019-08-22 22:55:34')], [Timestamp('2019-09-08 12:36:55'), Timestamp('2019-09-07 22:54:56')], [Timestamp('2019-10-08 05:56:18'), Timestamp('2019-10-07 22:56:21')], [Timestamp('2019-11-14 05:48:41'), Timestamp('2019-11-13 22:50:13')], [Timestamp('2019-11-22 06:07:50'), Timestamp('2019-11-21 22:57:32')], [Timestamp('2019-12-30 05:55:23'), Timestamp('2019-12-29 23:00:29')]]\n",
      "\n",
      "Periods vs number of samples\n",
      "[[-1, 21.0], [1, 1.0], [2, 4.0], [6, 1.0], [7, 2.0], [9, 2.0], [10, 3.0], [13, 1.0], [14, 2.0], [15, 24622.0], [16, 25693.0], [17, 6627.0], [18, 569.0], [19, 776.0], [20, 786.0], [21, 628.0], [22, 617.0], [23, 491.0], [24, 429.0], [25, 408.0], [26, 268.0], [27, 272.0], [28, 185.0], [29, 164.0], [30, 177.0], [31, 89.0], [32, 62.0], [33, 42.0], [34, 30.0], [35, 22.0], [36, 10.0], [37, 9.0], [38, 10.0], [39, 3.0], [40, 5.0], [41, 7.0], [42, 6.0], [43, 5.0], [44, 4.0], [45, 3.0], [46, 4.0], [47, 3.0], [48, 3.0], [50, 1.0], [51, 1.0], [52, 2.0], [54, 3.0], [55, 1.0], [56, 3.0], [57, 2.0], [58, 1.0], [60, 1.0], [61, 1.0], [62, 1.0], [69, 1.0], [73, 1.0], [75, 1.0], [81, 2.0], [82, 2.0], [87, 1.0], [93, 1.0]]\n"
     ]
    }
   ],
   "source": [
    "date_unq = pd.Series(data['DateTimeStamp'].unique())\n",
    "date_rest = []\n",
    "date_rare = []\n",
    "date_no_15 = []\n",
    "for i in range(len(date_unq)-1):\n",
    "    if date_unq[i+1].time().hour == date_unq[i].time().hour:\n",
    "        rest = date_unq[i+1].time().minute - date_unq[i].time().minute\n",
    "    elif (date_unq[i+1].time().hour > date_unq[i].time().hour) or ((date_unq[i+1].time().hour == 0) and (date_unq[i].time().hour == 23)):\n",
    "        rest = date_unq[i+1].time().minute + 60 - date_unq[i].time().minute\n",
    "    else:\n",
    "        rest = -1\n",
    "        date_rare.append([date_unq[i+1], date_unq[i]])\n",
    "        #print(\"algo raro\")\n",
    "    date_rest.append(rest)\n",
    "    if rest != 15:\n",
    "        date_no_15.append([rest, date_unq[i+1], date_unq[i]])\n",
    "\n",
    "print(f'\\nTotal DateTimes = {len(date_unq)} vs Total DateTimes in 2 years with a period of 15 min = {(60/15)*24*365*2} --> DateLoss = {100 - (100*(len(date_unq)/((60/15)*24*365*2)))}')\n",
    "print(f'Periods other than 15 min = {len(date_no_15)}\\n')\n",
    "\n",
    "# Datos Raros\n",
    "print(f'Very high periods (2h a 2 días) = {len(date_rare)}')\n",
    "print(date_rare)\n",
    "\n",
    "num = list(np.unique(date_rest))\n",
    "count = np.zeros(len(num))\n",
    "for i in date_no_15:\n",
    "    if i[0] in num:\n",
    "        count[num.index(i[0])] += 1\n",
    "count[num.index(15)] = len(date_unq) - len(date_no_15)\n",
    "\n",
    "fusion = []\n",
    "for i in range(len(num)):\n",
    "    fusion.append([num[i], count[i]])\n",
    "print('\\nPeriods vs number of samples')\n",
    "print(fusion)"
   ]
  },
  {
   "cell_type": "markdown",
   "metadata": {
    "pycharm": {
     "name": "#%% md\n"
    }
   },
   "source": [
    "En primera instancia lo que se observa es que existen gaps o irregularidades en la frecuencia de muestreo de datos pues se tienen 63092 muestras en un plazo de 2 años, en vez de las 70080 que se deberían tener si se mantuviera un período de muestreo constante de 15min. De hecho más de la mitad de las muestras (38470) poseen un período de muestreo distinto a 15 minutos. De estas 38470 muestras, 24622 tienen un período de muestreo de 16 min, y 6627 lo tienen de 17 min, por lo que podemos decir que el 90% de las muestras se encuentra alrededor de los 15 min, con una desviación de +-2 min. El otro 10% varía muchisimo, llendo desde 1 minuto hasta casi 2 días en los caso más extremos.\n",
    "\n",
    "Hay 21 casos con períodos de muestreo muy altos. La mayoría de estos se dan una vez al mes, siento el patro que más se repite: muestra ~22:30h y luego la siguiente muestra a las ~05:30h del día siguiente. Existe un sólo caso donde no hubo muestras por todo un día y parte del otro ([Timestamp('2018-05-10 07:46:46'), Timestamp('2018-05-08 22:17:57')] --> No hubo muestars el día 2018-05-09)"
   ]
  },
  {
   "cell_type": "markdown",
   "metadata": {
    "pycharm": {
     "name": "#%% md\n"
    }
   },
   "source": [
    "In the first instance we can observe that there are gaps or irregularities in the sampling periods, since there are 63.092 samples in a period of 2 years, instead of the 70.080 that should be had if a constant sampling period of 15 minutes were maintained. In fact, more than half of the samples (38.470) have a sampling period other than 15 minutes. Of these 38.470 samples, 24.622 have a sampling period of 16 min, and 6.627 have a sampling period of 17 min, so we can say that 90% of the samples are around 15 min, with a deviation of +-2 min. The other 10% varies a lot, ranging from 1 minute to almost 2 days in the most extreme cases.\n",
    "\n",
    "There are 21 cases with very high sampling periods. The majority of these occur once a month, with the most repeated pattern being: a sample at ~22:30h and then the next sample at ~05:30h the following day. There is only one case where there were no samples for all day and part of the other ([Timestamp('2018-05-10 07:46:46'), Timestamp('2018-05-08 22:17:57')] --> No samples on 2018-05-09)."
   ]
  },
  {
   "cell_type": "markdown",
   "metadata": {
    "pycharm": {
     "name": "#%% md\n"
    }
   },
   "source": [
    "### Agrupamiento de la data\n",
    "Se agrupa la data por DateTime y por DetectID. Esto se hace para que los valores de la variables para un detector sean el mean() de los valores de todas sus \"Lanes\"."
   ]
  },
  {
   "cell_type": "markdown",
   "metadata": {
    "pycharm": {
     "name": "#%% md\n"
    }
   },
   "source": [
    "### Data grouping\n",
    "The data is grouped by DateTime and DetectID. This is done so that the values of the variables for a detector are the mean() of the values of all its \"Lanes\"."
   ]
  },
  {
   "cell_type": "code",
   "execution_count": 6,
   "metadata": {
    "pycharm": {
     "name": "#%%  Mean of all Lanes\n"
    }
   },
   "outputs": [],
   "source": [
    "data = data.groupby(['DateTimeStamp','DetectID'], as_index=False).mean()"
   ]
  },
  {
   "cell_type": "code",
   "execution_count": 7,
   "metadata": {
    "pycharm": {
     "name": "#%%  Head de los Datos\n"
    }
   },
   "outputs": [
    {
     "data": {
      "text/html": [
       "<div>\n",
       "<style scoped>\n",
       "    .dataframe tbody tr th:only-of-type {\n",
       "        vertical-align: middle;\n",
       "    }\n",
       "\n",
       "    .dataframe tbody tr th {\n",
       "        vertical-align: top;\n",
       "    }\n",
       "\n",
       "    .dataframe thead th {\n",
       "        text-align: right;\n",
       "    }\n",
       "</style>\n",
       "<table border=\"1\" class=\"dataframe\">\n",
       "  <thead>\n",
       "    <tr style=\"text-align: right;\">\n",
       "      <th></th>\n",
       "      <th>DateTimeStamp</th>\n",
       "      <th>DetectID</th>\n",
       "      <th>Lane</th>\n",
       "      <th>Volume</th>\n",
       "      <th>Occupancy</th>\n",
       "      <th>Speed</th>\n",
       "      <th>Poll_Count</th>\n",
       "      <th>Failure</th>\n",
       "      <th>Invalid</th>\n",
       "    </tr>\n",
       "  </thead>\n",
       "  <tbody>\n",
       "    <tr>\n",
       "      <th>0</th>\n",
       "      <td>2018-01-01 00:12:14</td>\n",
       "      <td>1</td>\n",
       "      <td>2.0</td>\n",
       "      <td>18.000</td>\n",
       "      <td>0.333</td>\n",
       "      <td>62.667</td>\n",
       "      <td>15.0</td>\n",
       "      <td>0.0</td>\n",
       "      <td>0.0</td>\n",
       "    </tr>\n",
       "    <tr>\n",
       "      <th>1</th>\n",
       "      <td>2018-01-01 00:12:14</td>\n",
       "      <td>3</td>\n",
       "      <td>2.0</td>\n",
       "      <td>25.667</td>\n",
       "      <td>0.000</td>\n",
       "      <td>81.000</td>\n",
       "      <td>15.0</td>\n",
       "      <td>0.0</td>\n",
       "      <td>0.0</td>\n",
       "    </tr>\n",
       "    <tr>\n",
       "      <th>2</th>\n",
       "      <td>2018-01-01 00:12:14</td>\n",
       "      <td>4</td>\n",
       "      <td>2.0</td>\n",
       "      <td>21.333</td>\n",
       "      <td>0.000</td>\n",
       "      <td>78.333</td>\n",
       "      <td>15.0</td>\n",
       "      <td>0.0</td>\n",
       "      <td>0.0</td>\n",
       "    </tr>\n",
       "    <tr>\n",
       "      <th>3</th>\n",
       "      <td>2018-01-01 00:12:14</td>\n",
       "      <td>5</td>\n",
       "      <td>2.0</td>\n",
       "      <td>22.000</td>\n",
       "      <td>0.000</td>\n",
       "      <td>79.333</td>\n",
       "      <td>15.0</td>\n",
       "      <td>0.0</td>\n",
       "      <td>0.0</td>\n",
       "    </tr>\n",
       "    <tr>\n",
       "      <th>4</th>\n",
       "      <td>2018-01-01 00:12:14</td>\n",
       "      <td>6</td>\n",
       "      <td>2.0</td>\n",
       "      <td>32.000</td>\n",
       "      <td>0.333</td>\n",
       "      <td>67.667</td>\n",
       "      <td>14.0</td>\n",
       "      <td>0.0</td>\n",
       "      <td>0.0</td>\n",
       "    </tr>\n",
       "    <tr>\n",
       "      <th>5</th>\n",
       "      <td>2018-01-01 00:12:14</td>\n",
       "      <td>7</td>\n",
       "      <td>2.0</td>\n",
       "      <td>36.000</td>\n",
       "      <td>0.000</td>\n",
       "      <td>71.333</td>\n",
       "      <td>15.0</td>\n",
       "      <td>0.0</td>\n",
       "      <td>0.0</td>\n",
       "    </tr>\n",
       "    <tr>\n",
       "      <th>6</th>\n",
       "      <td>2018-01-01 00:12:14</td>\n",
       "      <td>8</td>\n",
       "      <td>2.0</td>\n",
       "      <td>31.333</td>\n",
       "      <td>0.000</td>\n",
       "      <td>64.667</td>\n",
       "      <td>15.0</td>\n",
       "      <td>0.0</td>\n",
       "      <td>0.0</td>\n",
       "    </tr>\n",
       "    <tr>\n",
       "      <th>7</th>\n",
       "      <td>2018-01-01 00:12:14</td>\n",
       "      <td>9</td>\n",
       "      <td>2.0</td>\n",
       "      <td>2.000</td>\n",
       "      <td>0.000</td>\n",
       "      <td>0.000</td>\n",
       "      <td>15.0</td>\n",
       "      <td>0.0</td>\n",
       "      <td>2.0</td>\n",
       "    </tr>\n",
       "    <tr>\n",
       "      <th>8</th>\n",
       "      <td>2018-01-01 00:12:14</td>\n",
       "      <td>10</td>\n",
       "      <td>2.0</td>\n",
       "      <td>36.000</td>\n",
       "      <td>0.000</td>\n",
       "      <td>74.000</td>\n",
       "      <td>15.0</td>\n",
       "      <td>0.0</td>\n",
       "      <td>0.0</td>\n",
       "    </tr>\n",
       "    <tr>\n",
       "      <th>9</th>\n",
       "      <td>2018-01-01 00:12:14</td>\n",
       "      <td>11</td>\n",
       "      <td>2.0</td>\n",
       "      <td>50.000</td>\n",
       "      <td>0.667</td>\n",
       "      <td>71.333</td>\n",
       "      <td>15.0</td>\n",
       "      <td>0.0</td>\n",
       "      <td>0.0</td>\n",
       "    </tr>\n",
       "  </tbody>\n",
       "</table>\n",
       "</div>"
      ],
      "text/plain": [
       "        DateTimeStamp  DetectID  Lane  Volume  Occupancy   Speed  Poll_Count  \\\n",
       "0 2018-01-01 00:12:14         1   2.0  18.000      0.333  62.667        15.0   \n",
       "1 2018-01-01 00:12:14         3   2.0  25.667      0.000  81.000        15.0   \n",
       "2 2018-01-01 00:12:14         4   2.0  21.333      0.000  78.333        15.0   \n",
       "3 2018-01-01 00:12:14         5   2.0  22.000      0.000  79.333        15.0   \n",
       "4 2018-01-01 00:12:14         6   2.0  32.000      0.333  67.667        14.0   \n",
       "5 2018-01-01 00:12:14         7   2.0  36.000      0.000  71.333        15.0   \n",
       "6 2018-01-01 00:12:14         8   2.0  31.333      0.000  64.667        15.0   \n",
       "7 2018-01-01 00:12:14         9   2.0   2.000      0.000   0.000        15.0   \n",
       "8 2018-01-01 00:12:14        10   2.0  36.000      0.000  74.000        15.0   \n",
       "9 2018-01-01 00:12:14        11   2.0  50.000      0.667  71.333        15.0   \n",
       "\n",
       "   Failure  Invalid  \n",
       "0      0.0      0.0  \n",
       "1      0.0      0.0  \n",
       "2      0.0      0.0  \n",
       "3      0.0      0.0  \n",
       "4      0.0      0.0  \n",
       "5      0.0      0.0  \n",
       "6      0.0      0.0  \n",
       "7      0.0      2.0  \n",
       "8      0.0      0.0  \n",
       "9      0.0      0.0  "
      ]
     },
     "execution_count": 7,
     "metadata": {},
     "output_type": "execute_result"
    }
   ],
   "source": [
    "data.head(10)"
   ]
  },
  {
   "cell_type": "code",
   "execution_count": 8,
   "metadata": {
    "pycharm": {
     "name": "#%% Descripción de la Data Numérica\n"
    },
    "scrolled": true
   },
   "outputs": [
    {
     "data": {
      "text/html": [
       "<div>\n",
       "<style scoped>\n",
       "    .dataframe tbody tr th:only-of-type {\n",
       "        vertical-align: middle;\n",
       "    }\n",
       "\n",
       "    .dataframe tbody tr th {\n",
       "        vertical-align: top;\n",
       "    }\n",
       "\n",
       "    .dataframe thead th {\n",
       "        text-align: right;\n",
       "    }\n",
       "</style>\n",
       "<table border=\"1\" class=\"dataframe\">\n",
       "  <thead>\n",
       "    <tr style=\"text-align: right;\">\n",
       "      <th></th>\n",
       "      <th>DetectID</th>\n",
       "      <th>Lane</th>\n",
       "      <th>Volume</th>\n",
       "      <th>Occupancy</th>\n",
       "      <th>Speed</th>\n",
       "      <th>Poll_Count</th>\n",
       "      <th>Failure</th>\n",
       "      <th>Invalid</th>\n",
       "    </tr>\n",
       "  </thead>\n",
       "  <tbody>\n",
       "    <tr>\n",
       "      <th>count</th>\n",
       "      <td>2.633e+06</td>\n",
       "      <td>2.633e+06</td>\n",
       "      <td>2.633e+06</td>\n",
       "      <td>2.633e+06</td>\n",
       "      <td>2.633e+06</td>\n",
       "      <td>2.633e+06</td>\n",
       "      <td>2.633e+06</td>\n",
       "      <td>2.633e+06</td>\n",
       "    </tr>\n",
       "    <tr>\n",
       "      <th>mean</th>\n",
       "      <td>2.640e+01</td>\n",
       "      <td>2.379e+00</td>\n",
       "      <td>1.599e+02</td>\n",
       "      <td>4.707e+00</td>\n",
       "      <td>5.342e+01</td>\n",
       "      <td>1.578e+01</td>\n",
       "      <td>4.237e-01</td>\n",
       "      <td>2.884e-01</td>\n",
       "    </tr>\n",
       "    <tr>\n",
       "      <th>std</th>\n",
       "      <td>1.600e+01</td>\n",
       "      <td>5.484e-01</td>\n",
       "      <td>1.636e+02</td>\n",
       "      <td>6.364e+00</td>\n",
       "      <td>2.225e+01</td>\n",
       "      <td>2.592e+00</td>\n",
       "      <td>7.293e+00</td>\n",
       "      <td>7.059e-01</td>\n",
       "    </tr>\n",
       "    <tr>\n",
       "      <th>min</th>\n",
       "      <td>0.000e+00</td>\n",
       "      <td>1.000e+00</td>\n",
       "      <td>-1.151e+04</td>\n",
       "      <td>0.000e+00</td>\n",
       "      <td>0.000e+00</td>\n",
       "      <td>1.000e+00</td>\n",
       "      <td>0.000e+00</td>\n",
       "      <td>0.000e+00</td>\n",
       "    </tr>\n",
       "    <tr>\n",
       "      <th>25%</th>\n",
       "      <td>1.300e+01</td>\n",
       "      <td>2.000e+00</td>\n",
       "      <td>5.400e+01</td>\n",
       "      <td>1.000e+00</td>\n",
       "      <td>4.900e+01</td>\n",
       "      <td>1.500e+01</td>\n",
       "      <td>0.000e+00</td>\n",
       "      <td>0.000e+00</td>\n",
       "    </tr>\n",
       "    <tr>\n",
       "      <th>50%</th>\n",
       "      <td>2.500e+01</td>\n",
       "      <td>2.000e+00</td>\n",
       "      <td>1.352e+02</td>\n",
       "      <td>3.000e+00</td>\n",
       "      <td>6.225e+01</td>\n",
       "      <td>1.500e+01</td>\n",
       "      <td>0.000e+00</td>\n",
       "      <td>0.000e+00</td>\n",
       "    </tr>\n",
       "    <tr>\n",
       "      <th>75%</th>\n",
       "      <td>3.800e+01</td>\n",
       "      <td>2.500e+00</td>\n",
       "      <td>2.330e+02</td>\n",
       "      <td>6.000e+00</td>\n",
       "      <td>6.800e+01</td>\n",
       "      <td>1.600e+01</td>\n",
       "      <td>0.000e+00</td>\n",
       "      <td>0.000e+00</td>\n",
       "    </tr>\n",
       "    <tr>\n",
       "      <th>max</th>\n",
       "      <td>5.600e+01</td>\n",
       "      <td>6.000e+00</td>\n",
       "      <td>3.903e+03</td>\n",
       "      <td>1.130e+02</td>\n",
       "      <td>9.167e+01</td>\n",
       "      <td>4.500e+01</td>\n",
       "      <td>4.480e+02</td>\n",
       "      <td>3.000e+00</td>\n",
       "    </tr>\n",
       "  </tbody>\n",
       "</table>\n",
       "</div>"
      ],
      "text/plain": [
       "        DetectID       Lane     Volume  Occupancy      Speed  Poll_Count  \\\n",
       "count  2.633e+06  2.633e+06  2.633e+06  2.633e+06  2.633e+06   2.633e+06   \n",
       "mean   2.640e+01  2.379e+00  1.599e+02  4.707e+00  5.342e+01   1.578e+01   \n",
       "std    1.600e+01  5.484e-01  1.636e+02  6.364e+00  2.225e+01   2.592e+00   \n",
       "min    0.000e+00  1.000e+00 -1.151e+04  0.000e+00  0.000e+00   1.000e+00   \n",
       "25%    1.300e+01  2.000e+00  5.400e+01  1.000e+00  4.900e+01   1.500e+01   \n",
       "50%    2.500e+01  2.000e+00  1.352e+02  3.000e+00  6.225e+01   1.500e+01   \n",
       "75%    3.800e+01  2.500e+00  2.330e+02  6.000e+00  6.800e+01   1.600e+01   \n",
       "max    5.600e+01  6.000e+00  3.903e+03  1.130e+02  9.167e+01   4.500e+01   \n",
       "\n",
       "         Failure    Invalid  \n",
       "count  2.633e+06  2.633e+06  \n",
       "mean   4.237e-01  2.884e-01  \n",
       "std    7.293e+00  7.059e-01  \n",
       "min    0.000e+00  0.000e+00  \n",
       "25%    0.000e+00  0.000e+00  \n",
       "50%    0.000e+00  0.000e+00  \n",
       "75%    0.000e+00  0.000e+00  \n",
       "max    4.480e+02  3.000e+00  "
      ]
     },
     "execution_count": 8,
     "metadata": {},
     "output_type": "execute_result"
    }
   ],
   "source": [
    "data.describe()"
   ]
  },
  {
   "cell_type": "code",
   "execution_count": 9,
   "metadata": {
    "pycharm": {
     "name": "#%% Descripción de la data no numérica\n"
    }
   },
   "outputs": [
    {
     "data": {
      "text/html": [
       "<div>\n",
       "<style scoped>\n",
       "    .dataframe tbody tr th:only-of-type {\n",
       "        vertical-align: middle;\n",
       "    }\n",
       "\n",
       "    .dataframe tbody tr th {\n",
       "        vertical-align: top;\n",
       "    }\n",
       "\n",
       "    .dataframe thead th {\n",
       "        text-align: right;\n",
       "    }\n",
       "</style>\n",
       "<table border=\"1\" class=\"dataframe\">\n",
       "  <thead>\n",
       "    <tr style=\"text-align: right;\">\n",
       "      <th></th>\n",
       "      <th>DateTimeStamp</th>\n",
       "    </tr>\n",
       "  </thead>\n",
       "  <tbody>\n",
       "    <tr>\n",
       "      <th>count</th>\n",
       "      <td>2633087</td>\n",
       "    </tr>\n",
       "    <tr>\n",
       "      <th>unique</th>\n",
       "      <td>63092</td>\n",
       "    </tr>\n",
       "    <tr>\n",
       "      <th>top</th>\n",
       "      <td>2018-01-13 10:36:10</td>\n",
       "    </tr>\n",
       "    <tr>\n",
       "      <th>freq</th>\n",
       "      <td>52</td>\n",
       "    </tr>\n",
       "    <tr>\n",
       "      <th>first</th>\n",
       "      <td>2018-01-01 00:12:14</td>\n",
       "    </tr>\n",
       "    <tr>\n",
       "      <th>last</th>\n",
       "      <td>2019-12-31 23:53:19</td>\n",
       "    </tr>\n",
       "  </tbody>\n",
       "</table>\n",
       "</div>"
      ],
      "text/plain": [
       "              DateTimeStamp\n",
       "count               2633087\n",
       "unique                63092\n",
       "top     2018-01-13 10:36:10\n",
       "freq                     52\n",
       "first   2018-01-01 00:12:14\n",
       "last    2019-12-31 23:53:19"
      ]
     },
     "execution_count": 9,
     "metadata": {},
     "output_type": "execute_result"
    }
   ],
   "source": [
    "data.describe(include=['datetime64[ns]', 'object'])"
   ]
  },
  {
   "cell_type": "code",
   "execution_count": 10,
   "metadata": {
    "pycharm": {
     "name": "#%%  Tipo de data y forma del dataframe\n"
    }
   },
   "outputs": [
    {
     "name": "stdout",
     "output_type": "stream",
     "text": [
      "<class 'pandas.core.frame.DataFrame'>\n",
      "Int64Index: 2633087 entries, 0 to 2633086\n",
      "Data columns (total 9 columns):\n",
      " #   Column         Dtype         \n",
      "---  ------         -----         \n",
      " 0   DateTimeStamp  datetime64[ns]\n",
      " 1   DetectID       int64         \n",
      " 2   Lane           float64       \n",
      " 3   Volume         float64       \n",
      " 4   Occupancy      float64       \n",
      " 5   Speed          float64       \n",
      " 6   Poll_Count     float64       \n",
      " 7   Failure        float64       \n",
      " 8   Invalid        float64       \n",
      "dtypes: datetime64[ns](1), float64(7), int64(1)\n",
      "memory usage: 200.9 MB\n",
      "None\n",
      "Shape of the data = (2633087, 9)\n"
     ]
    }
   ],
   "source": [
    "print(data.info())\n",
    "print(f'Shape of the data = {data.shape}')\n",
    "#print(data.columns)"
   ]
  },
  {
   "cell_type": "code",
   "execution_count": null,
   "outputs": [],
   "source": [
    "print('NA Count:')\n",
    "print(data.isna().sum())"
   ],
   "metadata": {
    "collapsed": false,
    "pycharm": {
     "name": "#%%  Conteo de NA\n"
    }
   }
  },
  {
   "cell_type": "markdown",
   "source": [
    "El siguiente es un histograma que representa el número de muestra que se tienen de cada detector. (Recordar que el número total de muestras de DateTime = 63092)"
   ],
   "metadata": {
    "collapsed": false
   }
  },
  {
   "cell_type": "markdown",
   "source": [
    "The following is a histogram representing the number of samples you have from each detector. (Recall that the total number of samples of DateTime = 63092)"
   ],
   "metadata": {
    "collapsed": false
   }
  },
  {
   "cell_type": "code",
   "execution_count": null,
   "outputs": [],
   "source": [
    "hist = data['DetectID'].hist(bins=len(data['DetectID'].unique()))"
   ],
   "metadata": {
    "collapsed": false,
    "pycharm": {
     "name": "#%%  Histograma de muestras de cada detector\n"
    }
   }
  },
  {
   "cell_type": "markdown",
   "source": [
    "En la siguientes celdas se ven los números representados en el histograma en forma \"total\" y en forma de porcentaje con respecto al número total de muestras de DateTime."
   ],
   "metadata": {
    "collapsed": false
   }
  },
  {
   "cell_type": "markdown",
   "source": [
    "In the next cells you see the numbers represented in the histogram in \"total\" form and as a \"percentage\" of the total number of DateTime samples."
   ],
   "metadata": {
    "collapsed": false
   }
  },
  {
   "cell_type": "code",
   "execution_count": null,
   "outputs": [],
   "source": [
    "print('Samples by detector \"Totals\"')\n",
    "data.groupby('DetectID')['DateTimeStamp'].count()"
   ],
   "metadata": {
    "collapsed": false,
    "pycharm": {
     "name": "#%%  Conteo de muestras por detector\n"
    }
   }
  },
  {
   "cell_type": "code",
   "execution_count": null,
   "outputs": [],
   "source": [
    "print('Samples by detector \"Percentage\"')\n",
    "data.groupby('DetectID')['DateTimeStamp'].count()*100/63092"
   ],
   "metadata": {
    "collapsed": false,
    "pycharm": {
     "name": "#%%\n"
    }
   }
  },
  {
   "cell_type": "code",
   "execution_count": 11,
   "metadata": {
    "pycharm": {
     "name": "#%%  Conteo de NA\n"
    }
   },
   "outputs": [
    {
     "name": "stdout",
     "output_type": "stream",
     "text": [
      "NA Count:\n",
      "DateTimeStamp    0\n",
      "DetectID         0\n",
      "Lane             0\n",
      "Volume           0\n",
      "Occupancy        0\n",
      "Speed            0\n",
      "Poll_Count       0\n",
      "Failure          0\n",
      "Invalid          0\n",
      "dtype: int64\n"
     ]
    }
   ],
   "source": []
  },
  {
   "cell_type": "markdown",
   "metadata": {},
   "source": [
    "El siguiente es un histograma que representa el número de muestra que se tienen de cada detector. (Recordar que el número total de muestras de DateTime = 63092)"
   ]
  },
  {
   "cell_type": "markdown",
   "metadata": {},
   "source": [
    "The following is a histogram representing the number of samples you have from each detector. (Recall that the total number of samples of DateTime = 63092)"
   ]
  },
  {
   "cell_type": "code",
   "execution_count": 12,
   "metadata": {
    "pycharm": {
     "name": "#%%  Histograma de muestras de cada detector\n"
    }
   },
   "outputs": [
    {
     "data": {
      "image/png": "[encoded data removed]",
      "text/plain": [
       "<Figure size 432x288 with 1 Axes>"
      ]
     },
     "metadata": {
      "needs_background": "light"
     },
     "output_type": "display_data"
    }
   ],
   "source": [
    "hist = data['DetectID'].hist(bins=len(data['DetectID'].unique()))"
   ]
  },
  {
   "cell_type": "markdown",
   "metadata": {},
   "source": [
    "En la siguientes celdas se ven los números representados en el histograma en forma \"total\" y en forma de porcentaje con respecto al número total de muestras de DateTime."
   ]
  },
  {
   "cell_type": "markdown",
   "metadata": {},
   "source": [
    "In the next cells you see the numbers represented in the histogram in \"total\" form and as a \"percentage\" of the total number of DateTime samples."
   ]
  },
  {
   "cell_type": "code",
   "execution_count": 13,
   "metadata": {
    "pycharm": {
     "name": "#%%  Conteo de muestras por detector\n"
    }
   },
   "outputs": [
    {
     "name": "stdout",
     "output_type": "stream",
     "text": [
      "Samples by detector \"Totals\"\n"
     ]
    },
    {
     "data": {
      "text/plain": [
       "DetectID\n",
       "0       176\n",
       "1     62701\n",
       "2     54784\n",
       "3     59540\n",
       "4     56602\n",
       "5     50024\n",
       "6     24775\n",
       "7     47119\n",
       "8     47844\n",
       "9     62978\n",
       "10    62982\n",
       "11    62982\n",
       "12    60596\n",
       "13    60524\n",
       "14    60517\n",
       "15    48381\n",
       "16    48295\n",
       "17    62924\n",
       "18    21871\n",
       "19    61054\n",
       "20    14624\n",
       "21    57331\n",
       "22    56641\n",
       "23    58031\n",
       "24    62934\n",
       "25    63011\n",
       "26    62806\n",
       "27    62819\n",
       "28    36069\n",
       "29    40514\n",
       "30    54535\n",
       "31    60403\n",
       "32    60365\n",
       "33    58334\n",
       "34    52958\n",
       "35    52960\n",
       "36    59417\n",
       "37    19489\n",
       "38    40663\n",
       "39     8431\n",
       "40    36842\n",
       "41    14629\n",
       "42    39756\n",
       "43     7227\n",
       "44     1161\n",
       "45     3216\n",
       "46    61207\n",
       "47    38986\n",
       "48    61507\n",
       "49    58838\n",
       "50    62983\n",
       "51    59657\n",
       "52    59658\n",
       "53    53402\n",
       "54     6923\n",
       "55    12083\n",
       "56    56008\n",
       "Name: DateTimeStamp, dtype: int64"
      ]
     },
     "execution_count": 13,
     "metadata": {},
     "output_type": "execute_result"
    }
   ],
   "source": [
    "print('Samples by detector \"Totals\"')\n",
    "data.groupby('DetectID')['DateTimeStamp'].count()"
   ]
  },
  {
   "cell_type": "code",
   "execution_count": 14,
   "metadata": {},
   "outputs": [
    {
     "name": "stdout",
     "output_type": "stream",
     "text": [
      "Samples by detector \"Percentage\"\n"
     ]
    },
    {
     "data": {
      "text/plain": [
       "DetectID\n",
       "0      0.279\n",
       "1     99.380\n",
       "2     86.832\n",
       "3     94.370\n",
       "4     89.713\n",
       "5     79.287\n",
       "6     39.268\n",
       "7     74.683\n",
       "8     75.832\n",
       "9     99.819\n",
       "10    99.826\n",
       "11    99.826\n",
       "12    96.044\n",
       "13    95.930\n",
       "14    95.919\n",
       "15    76.683\n",
       "16    76.547\n",
       "17    99.734\n",
       "18    34.665\n",
       "19    96.770\n",
       "20    23.179\n",
       "21    90.869\n",
       "22    89.775\n",
       "23    91.978\n",
       "24    99.750\n",
       "25    99.872\n",
       "26    99.547\n",
       "27    99.567\n",
       "28    57.169\n",
       "29    64.214\n",
       "30    86.437\n",
       "31    95.738\n",
       "32    95.678\n",
       "33    92.459\n",
       "34    83.938\n",
       "35    83.941\n",
       "36    94.175\n",
       "37    30.890\n",
       "38    64.450\n",
       "39    13.363\n",
       "40    58.394\n",
       "41    23.187\n",
       "42    63.013\n",
       "43    11.455\n",
       "44     1.840\n",
       "45     5.097\n",
       "46    97.012\n",
       "47    61.792\n",
       "48    97.488\n",
       "49    93.257\n",
       "50    99.827\n",
       "51    94.556\n",
       "52    94.557\n",
       "53    84.641\n",
       "54    10.973\n",
       "55    19.151\n",
       "56    88.772\n",
       "Name: DateTimeStamp, dtype: float64"
      ]
     },
     "execution_count": 14,
     "metadata": {},
     "output_type": "execute_result"
    }
   ],
   "source": [
    "print('Samples by detector \"Percentage\"')\n",
    "data.groupby('DetectID')['DateTimeStamp'].count()*100/63092"
   ]
  },
  {
   "cell_type": "code",
   "execution_count": null,
   "metadata": {},
   "outputs": [],
   "source": []
  }
 ],
 "metadata": {
  "kernelspec": {
   "display_name": "Python 3",
   "language": "python",
   "name": "python3"
  },
  "language_info": {
   "codemirror_mode": {
    "name": "ipython",
    "version": 3
   },
   "file_extension": ".py",
   "mimetype": "text/x-python",
   "name": "python",
   "nbconvert_exporter": "python",
   "pygments_lexer": "ipython3",
   "version": "3.8.3"
  }
 },
 "nbformat": 4,
 "nbformat_minor": 1
}