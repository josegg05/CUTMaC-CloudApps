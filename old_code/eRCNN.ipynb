{
 "cells": [
  {
   "cell_type": "code",
   "execution_count": null,
   "metadata": {
    "collapsed": true
   },
   "outputs": [],
   "source": []
  },
  {
   "cell_type": "markdown",
   "source": [
    "# Old CODE"
   ],
   "metadata": {
    "collapsed": false
   }
  },
  {
   "cell_type": "code",
   "execution_count": null,
   "outputs": [],
   "source": [
    "import argparse\n",
    "import utils\n",
    "\n",
    "files_group = {\n",
    "    'datasets':['datasets/california_paper_eRCNN/I5-N-3/2015_train.csv'],\n",
    "    'valid_set':['datasets/california_paper_eRCNN/I5-N-3/2016_val.csv'],\n",
    "    'test_set':['datasets/california_paper_eRCNN/I5-N-3/2016_val.csv']\n",
    "}\n",
    "prediction_group = {\n",
    "    'time_window':72,  # 'time window used to predict')\n",
    "    'time_aggregation':1,  # 'steps aggregated for net input')\n",
    "    'forecast_window':1,  # 'time window to be predicted')\n",
    "    'forecast_aggregation':3  # 'steps aggregated in forecast')\n",
    "}\n",
    "training_group = {\n",
    "    'train_set_size':70000,  # 'training set size')\n",
    "    'valid_set_size':30000,  # 'validation set size')\n",
    "    'valid_partitions':100,  # 'validation set partitions number')\n",
    "    'test_partitions':100,  # 'test set partitions number')\n",
    "    'batch_size':70,  # 'batch size for SGD')\n",
    "    'learning_rate':1e-4,  # 'learning rate for SGD')\n",
    "    'decay_rate':0.1,  # 'learning rate decay rate')\n",
    "    'decay_steps':1000,  # 'learning rate decay steps')\n",
    "    'gradient_clip':40.0,  # 'clip at this max norm of gradient')\n",
    "    'max_steps':10000,  # 'max number of iterations for training')\n",
    "    'save':'store_true',  # 'save the model every epoch')\n",
    "    'ensemble':1  # 'Number of the model in the ensemble')\n",
    "}\n",
    "pickle_filename = utils.get_dataset_name(prediction_group['time_window'],\n",
    "                                         prediction_group['time_aggregation'],\n",
    "                                         prediction_group['forecast_window'],\n",
    "                                         prediction_group['forecast_aggregation'],\n",
    "                                         training_group['train_set_size'],\n",
    "                                         training_group['valid_set_size'])\n",
    "\n",
    "dataset = utils.get_dataset(pickle_filename, files_group, training_group, prediction_group)\n",
    "train_set = dataset[0]\n",
    "train_labels = dataset[1]\n",
    "valid_set = dataset[2]\n",
    "valid_labels = dataset[3]\n",
    "valid_set2 = dataset[4]\n",
    "valid_labels2 = dataset[5]\n",
    "test_set = dataset[6]\n",
    "test_labels = dataset[7]\n",
    "mean = dataset[8]\n",
    "stddev = dataset[9]\n",
    "del dataset\n",
    "\n",
    "print('Training set', train_set.shape, train_labels.shape)\n",
    "print('Validation set', valid_set.shape, valid_labels.shape)\n",
    "print('Test set', valid_set2.shape, valid_labels2.shape)"
   ],
   "metadata": {
    "collapsed": false,
    "pycharm": {
     "name": "#%%\n"
    }
   }
  },
  {
   "cell_type": "code",
   "execution_count": null,
   "outputs": [],
   "source": [
    "wind_idx = 0\n",
    "plt.title(f\"Plot with args.forecast_aggregation = {prediction_group['forecast_aggregation']} \")\n",
    "plt.scatter(train_labels[:, 13, wind_idx, 0], train_labels[:, 13, wind_idx, 2], s=40, facecolors='none', edgecolors='b')\n",
    "plt.show()"
   ],
   "metadata": {
    "collapsed": false,
    "pycharm": {
     "name": "#%%\n"
    }
   }
  },
  {
   "cell_type": "code",
   "execution_count": null,
   "outputs": [],
   "source": [
    "img = np.stack(\n",
    "    [train_set[2,:,:,0]/np.max(train_set[2,:,:,0]),\n",
    "    train_set[2,:,:,1]/np.max(train_set[2,:,:,1]),\n",
    "    train_set[2,:,:,2]/np.max(train_set[2,:,:,2])], axis=2)\n",
    "print(img.shape)\n",
    "plt.imshow(img)\n",
    "plt.show()"
   ],
   "metadata": {
    "collapsed": false,
    "pycharm": {
     "name": "#%%\n"
    }
   }
  },
  {
   "cell_type": "code",
   "execution_count": null,
   "outputs": [],
   "source": [
    "cali_dataset_2015 = pd.read_csv(\"datasets/california_paper_eRCNN/I5-N-3/2015.csv\")\n",
    "cali_dataset_2016 = pd.read_csv(\"datasets/california_paper_eRCNN/I5-N-3/2016.csv\")\n",
    "cali_dataset_2016['timestep'] = cali_dataset_2016['timestep'] + cali_dataset_2015.tail(1)['timestep'].values + 1\n",
    "cali_dataset = pd.concat([cali_dataset_2015, cali_dataset_2016])\n",
    "cali_dataset.head()"
   ],
   "metadata": {
    "collapsed": false,
    "pycharm": {
     "name": "#%%\n"
    }
   }
  },
  {
   "cell_type": "code",
   "execution_count": null,
   "outputs": [],
   "source": [
    "cali_dataset.describe()"
   ],
   "metadata": {
    "collapsed": false,
    "pycharm": {
     "name": "#%%\n"
    }
   }
  },
  {
   "cell_type": "code",
   "execution_count": null,
   "outputs": [],
   "source": [
    "cali_avg_dataset = pd.DataFrame(columns=cali_dataset.columns)\n",
    "cali_avg_dataset = cali_avg_dataset.append(\n",
    "    [cali_dataset[cali_dataset[\"timestep\"]==time].mean()\n",
    "    for time in cali_dataset[\"timestep\"].unique()],\n",
    "    ignore_index=True)\n",
    "cali_avg_dataset.head()"
   ],
   "metadata": {
    "collapsed": false,
    "pycharm": {
     "name": "#%%\n"
    }
   }
  },
  {
   "cell_type": "code",
   "execution_count": null,
   "outputs": [],
   "source": [
    "\n",
    "cali_avg_dataset.describe()"
   ],
   "metadata": {
    "collapsed": false,
    "pycharm": {
     "name": "#%%\n"
    }
   }
  },
  {
   "cell_type": "code",
   "execution_count": null,
   "outputs": [],
   "source": [
    "cali_avg_dataset.plot(\n",
    "        x='flow',\n",
    "        y='speed',\n",
    "        style='o',\n",
    "        title=f'Average Plot',\n",
    "        xlim=[0,2500],\n",
    "        ylim=[0,80],\n",
    "        grid=True)"
   ],
   "metadata": {
    "collapsed": false,
    "pycharm": {
     "name": "#%%\n"
    }
   }
  },
  {
   "cell_type": "code",
   "execution_count": null,
   "outputs": [],
   "source": [
    "cali_avg_dataset_2 = pd.DataFrame(columns=cali_dataset.columns)\n",
    "cali_avg_dataset_2 = cali_avg_dataset.append(\n",
    "    [cali_dataset[cali_dataset[\"timestep\"]==time].median()\n",
    "    for time in cali_dataset[\"timestep\"].unique()],\n",
    "    ignore_index=True)\n",
    "cali_avg_dataset_2.head()"
   ],
   "metadata": {
    "collapsed": false,
    "pycharm": {
     "name": "#%%\n"
    }
   }
  },
  {
   "cell_type": "code",
   "execution_count": null,
   "outputs": [],
   "source": [
    "cali_avg_dataset_2.plot.scatter(\n",
    "        x='flow',\n",
    "        y='speed',\n",
    "        s=40,\n",
    "        facecolors='r',\n",
    "        edgecolors='none',\n",
    "        title=f'Average Plot',\n",
    "        xlim=[0,2500],\n",
    "        ylim=[0,80],\n",
    "        grid=True\n",
    ")"
   ],
   "metadata": {
    "collapsed": false,
    "pycharm": {
     "name": "#%%\n"
    }
   }
  },
  {
   "cell_type": "code",
   "execution_count": null,
   "outputs": [],
   "source": [
    "cali_avg_dataset.describe()"
   ],
   "metadata": {
    "collapsed": false,
    "pycharm": {
     "name": "#%%\n"
    }
   }
  },
  {
   "cell_type": "code",
   "execution_count": null,
   "outputs": [],
   "source": [
    "for sensor in cali_dataset[\"road_section\"].unique():\n",
    "    cali_sensor_dataset = cali_dataset[cali_dataset[\"road_section\"]==sensor]\n",
    "    cali_sensor_dataset.plot(\n",
    "        x='flow',\n",
    "        y='speed',\n",
    "        style='o',\n",
    "        title=f'Sensor: {sensor}',\n",
    "        xlim=[0,2500],\n",
    "        ylim=[0,80],\n",
    "        grid=True)\n",
    "print(cali_sensor_dataset.head())"
   ],
   "metadata": {
    "collapsed": false,
    "pycharm": {
     "name": "#%%\n"
    }
   }
  },
  {
   "cell_type": "raw",
   "source": [
    "\n"
   ],
   "metadata": {
    "collapsed": false
   }
  }
 ],
 "metadata": {
  "kernelspec": {
   "display_name": "Python 3",
   "language": "python",
   "name": "python3"
  },
  "language_info": {
   "codemirror_mode": {
    "name": "ipython",
    "version": 2
   },
   "file_extension": ".py",
   "mimetype": "text/x-python",
   "name": "python",
   "nbconvert_exporter": "python",
   "pygments_lexer": "ipython2",
   "version": "2.7.6"
  }
 },
 "nbformat": 4,
 "nbformat_minor": 0
}